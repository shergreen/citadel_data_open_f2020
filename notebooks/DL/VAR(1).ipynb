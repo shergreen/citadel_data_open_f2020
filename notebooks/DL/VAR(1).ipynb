{
 "cells": [
  {
   "cell_type": "code",
   "execution_count": 3,
   "metadata": {},
   "outputs": [],
   "source": [
    "import numpy as np\n",
    "import pandas as pd\n",
    "import matplotlib.pyplot as plt\n",
    "import seaborn as sns\n",
    "from statsmodels.tsa.vector_ar.var_model import VAR\n",
    "from statsmodels.tsa.tsatools import detrend\n",
    "from statsmodels.tsa.stattools import adfuller\n",
    "%matplotlib inline"
   ]
  },
  {
   "cell_type": "code",
   "execution_count": 4,
   "metadata": {},
   "outputs": [],
   "source": [
    "## read data\n",
    "mean_ratings_year = pd.read_csv(\"./processed_data/mean_ratings_year.csv\", index_col=0)\n",
    "mean_ratings_yearmonth = pd.read_csv(\"./processed_data/mean_ratings_yearmonth.csv\", index_col=0)"
   ]
  },
  {
   "cell_type": "code",
   "execution_count": 5,
   "metadata": {},
   "outputs": [],
   "source": [
    "mean_ratings_year = pd.pivot_table(mean_ratings_year, values='rating', index=['rating_year'], columns=['genres'])\n",
    "mean_ratings_yearmonth = pd.pivot_table(mean_ratings_yearmonth, values='rating', index=['rating_date'], columns=['genres'])"
   ]
  },
  {
   "cell_type": "markdown",
   "metadata": {},
   "source": [
    "### Here I only included genres of drama, action, comedy, and thriller, which are top four receiving most of the ratings."
   ]
  },
  {
   "cell_type": "markdown",
   "metadata": {},
   "source": [
    "## Without removing anything"
   ]
  },
  {
   "cell_type": "code",
   "execution_count": 6,
   "metadata": {},
   "outputs": [
    {
     "name": "stderr",
     "output_type": "stream",
     "text": [
      "//anaconda3/lib/python3.7/site-packages/statsmodels/tsa/base/tsa_model.py:214: ValueWarning: An unsupported index was provided and will be ignored when e.g. forecasting.\n",
      "  ' ignored when e.g. forecasting.', ValueWarning)\n"
     ]
    },
    {
     "data": {
      "text/plain": [
       "  Summary of Regression Results   \n",
       "==================================\n",
       "Model:                         VAR\n",
       "Method:                        OLS\n",
       "Date:           Wed, 16, Sep, 2020\n",
       "Time:                     14:56:16\n",
       "--------------------------------------------------------------------\n",
       "No. of Equations:         4.00000    BIC:                   -30.7042\n",
       "Nobs:                     21.0000    HQIC:                  -31.4831\n",
       "Log likelihood:           233.648    FPE:                1.77623e-14\n",
       "AIC:                     -31.6990    Det(Omega_mle):     7.55935e-15\n",
       "--------------------------------------------------------------------\n",
       "Results for equation Drama\n",
       "==============================================================================\n",
       "                 coefficient       std. error           t-stat            prob\n",
       "------------------------------------------------------------------------------\n",
       "const               0.553985         1.099227            0.504           0.614\n",
       "L1.Drama            1.330052         1.212677            1.097           0.273\n",
       "L1.Action           0.180642         0.315400            0.573           0.567\n",
       "L1.Comedy          -0.532869         0.762750           -0.699           0.485\n",
       "L1.Thriller        -0.162210         0.427917           -0.379           0.705\n",
       "==============================================================================\n",
       "\n",
       "Results for equation Action\n",
       "==============================================================================\n",
       "                 coefficient       std. error           t-stat            prob\n",
       "------------------------------------------------------------------------------\n",
       "const              -0.446959         1.343056           -0.333           0.739\n",
       "L1.Drama            1.157711         1.481671            0.781           0.435\n",
       "L1.Action           0.248136         0.385361            0.644           0.520\n",
       "L1.Comedy          -1.070510         0.931943           -1.149           0.251\n",
       "L1.Thriller         0.700854         0.522838            1.340           0.180\n",
       "==============================================================================\n",
       "\n",
       "Results for equation Comedy\n",
       "==============================================================================\n",
       "                 coefficient       std. error           t-stat            prob\n",
       "------------------------------------------------------------------------------\n",
       "const              -0.150495         1.404587           -0.107           0.915\n",
       "L1.Drama            1.499711         1.549552            0.968           0.333\n",
       "L1.Action           0.257744         0.403016            0.640           0.522\n",
       "L1.Comedy          -0.390419         0.974639           -0.401           0.689\n",
       "L1.Thriller        -0.425812         0.546791           -0.779           0.436\n",
       "==============================================================================\n",
       "\n",
       "Results for equation Thriller\n",
       "==============================================================================\n",
       "                 coefficient       std. error           t-stat            prob\n",
       "------------------------------------------------------------------------------\n",
       "const               0.383606         1.393899            0.275           0.783\n",
       "L1.Drama            1.011945         1.537761            0.658           0.510\n",
       "L1.Action           0.188836         0.399949            0.472           0.637\n",
       "L1.Comedy          -0.994955         0.967222           -1.029           0.304\n",
       "L1.Thriller         0.615984         0.542630            1.135           0.256\n",
       "==============================================================================\n",
       "\n",
       "Correlation matrix of residuals\n",
       "               Drama    Action    Comedy  Thriller\n",
       "Drama       1.000000  0.834322  0.961844  0.941268\n",
       "Action      0.834322  1.000000  0.758338  0.904600\n",
       "Comedy      0.961844  0.758338  1.000000  0.866802\n",
       "Thriller    0.941268  0.904600  0.866802  1.000000\n",
       "\n"
      ]
     },
     "execution_count": 6,
     "metadata": {},
     "output_type": "execute_result"
    }
   ],
   "source": [
    "# Temporal resolution: year\n",
    "model = VAR(mean_ratings_year[[\"Drama\", \"Action\", \"Comedy\", \"Thriller\"]]).fit(maxlags=1)\n",
    "model.summary()"
   ]
  },
  {
   "cell_type": "code",
   "execution_count": 7,
   "metadata": {},
   "outputs": [
    {
     "name": "stderr",
     "output_type": "stream",
     "text": [
      "//anaconda3/lib/python3.7/site-packages/statsmodels/tsa/base/tsa_model.py:162: ValueWarning: No frequency information was provided, so inferred frequency MS will be used.\n",
      "  % freq, ValueWarning)\n"
     ]
    },
    {
     "data": {
      "text/plain": [
       "  Summary of Regression Results   \n",
       "==================================\n",
       "Model:                         VAR\n",
       "Method:                        OLS\n",
       "Date:           Wed, 16, Sep, 2020\n",
       "Time:                     14:56:28\n",
       "--------------------------------------------------------------------\n",
       "No. of Equations:         4.00000    BIC:                   -28.1699\n",
       "Nobs:                     252.000    HQIC:                  -28.3373\n",
       "Log likelihood:           2174.41    FPE:                4.40901e-13\n",
       "AIC:                     -28.4500    Det(Omega_mle):     4.07578e-13\n",
       "--------------------------------------------------------------------\n",
       "Results for equation Drama\n",
       "==============================================================================\n",
       "                 coefficient       std. error           t-stat            prob\n",
       "------------------------------------------------------------------------------\n",
       "const               1.708758         0.194049            8.806           0.000\n",
       "L1.Drama            0.155968         0.145356            1.073           0.283\n",
       "L1.Action           0.141832         0.112516            1.261           0.207\n",
       "L1.Comedy           0.211466         0.098079            2.156           0.031\n",
       "L1.Thriller         0.049337         0.142288            0.347           0.729\n",
       "==============================================================================\n",
       "\n",
       "Results for equation Action\n",
       "==============================================================================\n",
       "                 coefficient       std. error           t-stat            prob\n",
       "------------------------------------------------------------------------------\n",
       "const               1.046728         0.229376            4.563           0.000\n",
       "L1.Drama           -0.167699         0.171819           -0.976           0.329\n",
       "L1.Action           0.688670         0.133000            5.178           0.000\n",
       "L1.Comedy          -0.074036         0.115934           -0.639           0.523\n",
       "L1.Thriller         0.255923         0.168192            1.522           0.128\n",
       "==============================================================================\n",
       "\n",
       "Results for equation Comedy\n",
       "==============================================================================\n",
       "                 coefficient       std. error           t-stat            prob\n",
       "------------------------------------------------------------------------------\n",
       "const               1.280716         0.215042            5.956           0.000\n",
       "L1.Drama           -0.105413         0.161082           -0.654           0.513\n",
       "L1.Action           0.134889         0.124689            1.082           0.279\n",
       "L1.Comedy           0.669227         0.108690            6.157           0.000\n",
       "L1.Thriller        -0.065635         0.157682           -0.416           0.677\n",
       "==============================================================================\n",
       "\n",
       "Results for equation Thriller\n",
       "==============================================================================\n",
       "                 coefficient       std. error           t-stat            prob\n",
       "------------------------------------------------------------------------------\n",
       "const               1.322804         0.214788            6.159           0.000\n",
       "L1.Drama           -0.242662         0.160892           -1.508           0.131\n",
       "L1.Action           0.145479         0.124542            1.168           0.243\n",
       "L1.Comedy          -0.028388         0.108561           -0.261           0.794\n",
       "L1.Thriller         0.760782         0.157496            4.830           0.000\n",
       "==============================================================================\n",
       "\n",
       "Correlation matrix of residuals\n",
       "               Drama    Action    Comedy  Thriller\n",
       "Drama       1.000000  0.794263  0.868793  0.867797\n",
       "Action      0.794263  1.000000  0.772920  0.919146\n",
       "Comedy      0.868793  0.772920  1.000000  0.813263\n",
       "Thriller    0.867797  0.919146  0.813263  1.000000\n",
       "\n"
      ]
     },
     "execution_count": 7,
     "metadata": {},
     "output_type": "execute_result"
    }
   ],
   "source": [
    "# Temporal resolution: month\n",
    "model = VAR(mean_ratings_yearmonth[[\"Drama\", \"Action\", \"Comedy\", \"Thriller\"]]).fit(maxlags=1)\n",
    "model.summary()"
   ]
  },
  {
   "cell_type": "markdown",
   "metadata": {},
   "source": [
    "## Removing trend"
   ]
  },
  {
   "cell_type": "markdown",
   "metadata": {},
   "source": [
    "### Temporal resolution: year"
   ]
  },
  {
   "cell_type": "code",
   "execution_count": 8,
   "metadata": {},
   "outputs": [
    {
     "name": "stdout",
     "output_type": "stream",
     "text": [
      "(-10.96035877405361, 8.356428815531135e-20, 9, 12, {'1%': -4.137829282407408, '5%': -3.1549724074074077, '10%': -2.7144769444444443}, -100.89476880707704)\n",
      "(-1.3197587431843456, 0.6200848870891525, 9, 12, {'1%': -4.137829282407408, '5%': -3.1549724074074077, '10%': -2.7144769444444443}, -44.97347936742901)\n",
      "(-3.703220535348564, 0.004068081799419482, 9, 12, {'1%': -4.137829282407408, '5%': -3.1549724074074077, '10%': -2.7144769444444443}, -92.19414982406752)\n",
      "(-4.253418288447936, 0.0005343630361669577, 9, 12, {'1%': -4.137829282407408, '5%': -3.1549724074074077, '10%': -2.7144769444444443}, -67.41205315283426)\n"
     ]
    }
   ],
   "source": [
    "print(adfuller(mean_ratings_year[[\"Drama\"]]))  # Stationary\n",
    "print(adfuller(mean_ratings_year[[\"Action\"]]))  # Unstationary\n",
    "print(adfuller(mean_ratings_year[[\"Comedy\"]]))  # Stationary\n",
    "print(adfuller(mean_ratings_year[[\"Thriller\"]])) # Stationary"
   ]
  },
  {
   "cell_type": "code",
   "execution_count": 9,
   "metadata": {},
   "outputs": [
    {
     "name": "stdout",
     "output_type": "stream",
     "text": [
      "(-3.133823012375228, 0.024149299254310936, 9, 12, {'1%': -4.137829282407408, '5%': -3.1549724074074077, '10%': -2.7144769444444443}, -61.44795927706495)\n"
     ]
    }
   ],
   "source": [
    "print(adfuller(detrend(mean_ratings_year[\"Action\"], order=1, axis=0)))  # now stationary"
   ]
  },
  {
   "cell_type": "code",
   "execution_count": 10,
   "metadata": {},
   "outputs": [],
   "source": [
    "mean_ratings_year[\"Action\"] = detrend(mean_ratings_year[\"Action\"], order=1, axis=0)"
   ]
  },
  {
   "cell_type": "code",
   "execution_count": 11,
   "metadata": {},
   "outputs": [
    {
     "name": "stderr",
     "output_type": "stream",
     "text": [
      "//anaconda3/lib/python3.7/site-packages/statsmodels/tsa/base/tsa_model.py:214: ValueWarning: An unsupported index was provided and will be ignored when e.g. forecasting.\n",
      "  ' ignored when e.g. forecasting.', ValueWarning)\n"
     ]
    },
    {
     "data": {
      "text/plain": [
       "  Summary of Regression Results   \n",
       "==================================\n",
       "Model:                         VAR\n",
       "Method:                        OLS\n",
       "Date:           Wed, 16, Sep, 2020\n",
       "Time:                     15:00:29\n",
       "--------------------------------------------------------------------\n",
       "No. of Equations:         4.00000    BIC:                   -30.4059\n",
       "Nobs:                     21.0000    HQIC:                  -31.1847\n",
       "Log likelihood:           230.516    FPE:                2.39365e-14\n",
       "AIC:                     -31.4006    Det(Omega_mle):     1.01869e-14\n",
       "--------------------------------------------------------------------\n",
       "Results for equation Drama\n",
       "==============================================================================\n",
       "                 coefficient       std. error           t-stat            prob\n",
       "------------------------------------------------------------------------------\n",
       "const               0.850365         1.552959            0.548           0.584\n",
       "L1.Drama            1.336973         1.225258            1.091           0.275\n",
       "L1.Action           0.108577         0.255902            0.424           0.671\n",
       "L1.Comedy          -0.595834         0.764432           -0.779           0.436\n",
       "L1.Thriller        -0.014313         0.316825           -0.045           0.964\n",
       "==============================================================================\n",
       "\n",
       "Results for equation Action\n",
       "==============================================================================\n",
       "                 coefficient       std. error           t-stat            prob\n",
       "------------------------------------------------------------------------------\n",
       "const              -2.431359         1.879883           -1.293           0.196\n",
       "L1.Drama            1.271770         1.483195            0.857           0.391\n",
       "L1.Action           0.380817         0.309774            1.229           0.219\n",
       "L1.Comedy          -0.775415         0.925359           -0.838           0.402\n",
       "L1.Thriller         0.115924         0.383522            0.302           0.762\n",
       "==============================================================================\n",
       "\n",
       "Results for equation Comedy\n",
       "==============================================================================\n",
       "                 coefficient       std. error           t-stat            prob\n",
       "------------------------------------------------------------------------------\n",
       "const               0.566222         1.972175            0.287           0.774\n",
       "L1.Drama            1.453267         1.556012            0.934           0.350\n",
       "L1.Action           0.220858         0.324982            0.680           0.497\n",
       "L1.Comedy          -0.493277         0.970789           -0.508           0.611\n",
       "L1.Thriller        -0.226869         0.402351           -0.564           0.573\n",
       "==============================================================================\n",
       "\n",
       "Results for equation Thriller\n",
       "==============================================================================\n",
       "                 coefficient       std. error           t-stat            prob\n",
       "------------------------------------------------------------------------------\n",
       "const               0.355588         1.973099            0.180           0.857\n",
       "L1.Drama            1.083934         1.556741            0.696           0.486\n",
       "L1.Action           0.037690         0.325134            0.116           0.908\n",
       "L1.Comedy          -1.045808         0.971243           -1.077           0.282\n",
       "L1.Thriller         0.784478         0.402540            1.949           0.051\n",
       "==============================================================================\n",
       "\n",
       "Correlation matrix of residuals\n",
       "               Drama    Action    Comedy  Thriller\n",
       "Drama       1.000000  0.817630  0.963819  0.944565\n",
       "Action      0.817630  1.000000  0.769585  0.860019\n",
       "Comedy      0.963819  0.769585  1.000000  0.876429\n",
       "Thriller    0.944565  0.860019  0.876429  1.000000\n",
       "\n"
      ]
     },
     "execution_count": 11,
     "metadata": {},
     "output_type": "execute_result"
    }
   ],
   "source": [
    "# Temporal resolution: year\n",
    "model = VAR(mean_ratings_year[[\"Drama\", \"Action\", \"Comedy\", \"Thriller\"]]).fit(maxlags=1)\n",
    "model.summary()"
   ]
  },
  {
   "cell_type": "markdown",
   "metadata": {},
   "source": [
    "### Temporal resolution: month (remove trend and seasonality)"
   ]
  },
  {
   "cell_type": "code",
   "execution_count": 12,
   "metadata": {},
   "outputs": [
    {
     "name": "stdout",
     "output_type": "stream",
     "text": [
      "(-2.5192708700044175, 0.11085564164987549, 6, 246, {'1%': -3.457215237265747, '5%': -2.873361841566324, '10%': -2.5730700760129555}, -815.4149788696141)\n",
      "(-2.041667897362184, 0.2686071473961835, 4, 248, {'1%': -3.4569962781990573, '5%': -2.8732659015936024, '10%': -2.573018897632674}, -758.1158847818616)\n",
      "(-2.3375670886757467, 0.16013785694468086, 5, 247, {'1%': -3.457105309726321, '5%': -2.873313676101283, '10%': -2.5730443824681606}, -764.5044921088003)\n",
      "(-2.2148100909802073, 0.20091422522214586, 4, 248, {'1%': -3.4569962781990573, '5%': -2.8732659015936024, '10%': -2.573018897632674}, -780.3415591878493)\n"
     ]
    }
   ],
   "source": [
    "print(adfuller(mean_ratings_yearmonth[[\"Drama\"]]))  # Untationary\n",
    "print(adfuller(mean_ratings_yearmonth[[\"Action\"]]))  # Unstationary\n",
    "print(adfuller(mean_ratings_yearmonth[[\"Comedy\"]]))  # Unstationary\n",
    "print(adfuller(mean_ratings_yearmonth[[\"Thriller\"]])) # Unstationary"
   ]
  },
  {
   "cell_type": "code",
   "execution_count": 23,
   "metadata": {},
   "outputs": [
    {
     "name": "stdout",
     "output_type": "stream",
     "text": [
      "Difference of Drama\n",
      "(-6.462294996318811, 1.4332745126068822e-08, 14, 225, {'1%': -3.4597521044060353, '5%': -2.874472927517147, '10%': -2.5736628197530864}, -711.2837068278728)\n",
      "Difference of Action\n",
      "(-6.804938988203275, 2.188880452029361e-09, 12, 227, {'1%': -3.4594900381360034, '5%': -2.8743581895178485, '10%': -2.573601605503697}, -651.1026316367721)\n",
      "Difference of Comedy\n",
      "(-5.579406192952711, 1.4077840882440738e-06, 13, 226, {'1%': -3.4596204846395824, '5%': -2.8744153028455948, '10%': -2.5736320761218576}, -639.8726218633461)\n",
      "Difference of Thriller\n",
      "(-5.581769950039264, 1.3914045125824804e-06, 12, 227, {'1%': -3.4594900381360034, '5%': -2.8743581895178485, '10%': -2.573601605503697}, -663.1912785515266)\n"
     ]
    }
   ],
   "source": [
    "Dif_DT=pd.DataFrame()\n",
    "for i in [\"Drama\", \"Action\", \"Comedy\", \"Thriller\"]:\n",
    "    Dif=mean_ratings_yearmonth[i]-mean_ratings_yearmonth[i].shift(1)\n",
    "    # Remove the seasonal trend\n",
    "    Dif_sea=Dif-Dif.shift(12)\n",
    "    s='Dif_'+i\n",
    "    Dif_DT[s]=Dif_sea\n",
    "    print('Difference of '+i)\n",
    "    print(adfuller(Dif_sea.dropna(inplace=False)))"
   ]
  },
  {
   "cell_type": "code",
   "execution_count": 25,
   "metadata": {},
   "outputs": [
    {
     "name": "stderr",
     "output_type": "stream",
     "text": [
      "//anaconda3/lib/python3.7/site-packages/statsmodels/tsa/base/tsa_model.py:162: ValueWarning: No frequency information was provided, so inferred frequency MS will be used.\n",
      "  % freq, ValueWarning)\n"
     ]
    },
    {
     "data": {
      "text/plain": [
       "  Summary of Regression Results   \n",
       "==================================\n",
       "Model:                         VAR\n",
       "Method:                        OLS\n",
       "Date:           Wed, 16, Sep, 2020\n",
       "Time:                     15:10:33\n",
       "--------------------------------------------------------------------\n",
       "No. of Equations:         4.00000    BIC:                   -25.6073\n",
       "Nobs:                     239.000    HQIC:                  -25.7809\n",
       "Log likelihood:           1758.33    FPE:                5.65686e-12\n",
       "AIC:                     -25.8982    Det(Omega_mle):     5.20724e-12\n",
       "--------------------------------------------------------------------\n",
       "Results for equation Dif_Drama\n",
       "==================================================================================\n",
       "                     coefficient       std. error           t-stat            prob\n",
       "----------------------------------------------------------------------------------\n",
       "const                  -0.000135         0.004101           -0.033           0.974\n",
       "L1.Dif_Drama           -0.097491         0.128512           -0.759           0.448\n",
       "L1.Dif_Action          -0.282581         0.131856           -2.143           0.032\n",
       "L1.Dif_Comedy          -0.092011         0.108135           -0.851           0.395\n",
       "L1.Dif_Thriller         0.022298         0.177214            0.126           0.900\n",
       "==================================================================================\n",
       "\n",
       "Results for equation Dif_Action\n",
       "==================================================================================\n",
       "                     coefficient       std. error           t-stat            prob\n",
       "----------------------------------------------------------------------------------\n",
       "const                   0.000070         0.004592            0.015           0.988\n",
       "L1.Dif_Drama            0.199383         0.143900            1.386           0.166\n",
       "L1.Dif_Action          -0.495584         0.147645           -3.357           0.001\n",
       "L1.Dif_Comedy          -0.175308         0.121083           -1.448           0.148\n",
       "L1.Dif_Thriller         0.019009         0.198433            0.096           0.924\n",
       "==================================================================================\n",
       "\n",
       "Results for equation Dif_Comedy\n",
       "==================================================================================\n",
       "                     coefficient       std. error           t-stat            prob\n",
       "----------------------------------------------------------------------------------\n",
       "const                   0.000042         0.004420            0.009           0.992\n",
       "L1.Dif_Drama            0.175207         0.138506            1.265           0.206\n",
       "L1.Dif_Action          -0.240392         0.142110           -1.692           0.091\n",
       "L1.Dif_Comedy          -0.503088         0.116544           -4.317           0.000\n",
       "L1.Dif_Thriller         0.137268         0.190995            0.719           0.472\n",
       "==================================================================================\n",
       "\n",
       "Results for equation Dif_Thriller\n",
       "==================================================================================\n",
       "                     coefficient       std. error           t-stat            prob\n",
       "----------------------------------------------------------------------------------\n",
       "const                   0.000016         0.004333            0.004           0.997\n",
       "L1.Dif_Drama            0.319849         0.135801            2.355           0.019\n",
       "L1.Dif_Action          -0.199647         0.139335           -1.433           0.152\n",
       "L1.Dif_Comedy          -0.156203         0.114268           -1.367           0.172\n",
       "L1.Dif_Thriller        -0.395615         0.187265           -2.113           0.035\n",
       "==================================================================================\n",
       "\n",
       "Correlation matrix of residuals\n",
       "                Dif_Drama  Dif_Action  Dif_Comedy  Dif_Thriller\n",
       "Dif_Drama        1.000000    0.734160    0.825502      0.852178\n",
       "Dif_Action       0.734160    1.000000    0.750524      0.905648\n",
       "Dif_Comedy       0.825502    0.750524    1.000000      0.832550\n",
       "Dif_Thriller     0.852178    0.905648    0.832550      1.000000\n",
       "\n"
      ]
     },
     "execution_count": 25,
     "metadata": {},
     "output_type": "execute_result"
    }
   ],
   "source": [
    "# Temporal resolution: month\n",
    "model = VAR(Dif_DT.dropna(axis=0)).fit(maxlags=1, ic='aic')\n",
    "model.summary()"
   ]
  },
  {
   "cell_type": "code",
   "execution_count": null,
   "metadata": {},
   "outputs": [],
   "source": []
  },
  {
   "cell_type": "code",
   "execution_count": null,
   "metadata": {},
   "outputs": [],
   "source": []
  }
 ],
 "metadata": {
  "kernelspec": {
   "display_name": "Python 3",
   "language": "python",
   "name": "python3"
  },
  "language_info": {
   "codemirror_mode": {
    "name": "ipython",
    "version": 3
   },
   "file_extension": ".py",
   "mimetype": "text/x-python",
   "name": "python",
   "nbconvert_exporter": "python",
   "pygments_lexer": "ipython3",
   "version": "3.7.3"
  }
 },
 "nbformat": 4,
 "nbformat_minor": 2
}
