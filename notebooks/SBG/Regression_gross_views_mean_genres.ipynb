{
 "cells": [
  {
   "cell_type": "code",
   "execution_count": null,
   "metadata": {},
   "outputs": [],
   "source": [
    "# Linear regression"
   ]
  },
  {
   "cell_type": "code",
   "execution_count": 1,
   "metadata": {},
   "outputs": [],
   "source": [
    "import numpy as np\n",
    "import pandas as pd\n",
    "import matplotlib.pyplot as plt\n",
    "import time"
   ]
  },
  {
   "cell_type": "code",
   "execution_count": 3,
   "metadata": {},
   "outputs": [],
   "source": [
    "Rev=pd.read_csv('../data/movie_industry.csv',encoding = \"ISO-8859-1\")\n",
    "Rev=Rev[['genre','gross','name','year']]"
   ]
  },
  {
   "cell_type": "code",
   "execution_count": 6,
   "metadata": {},
   "outputs": [],
   "source": [
    "Mov=pd.read_csv('../data/movie_lense/movies.csv',sep=',')\n",
    "Rat=pd.read_csv('../data/movie_lense/ratings.csv')\n",
    "def ext_movname(tlist):\n",
    "    lst=tlist.copy()\n",
    "    year=tlist.copy()\n",
    "    for i in range(len(tlist)):\n",
    "        raw=tlist[i].rstrip()\n",
    "        try:\n",
    "            year[i]=int(raw[-5:-1])\n",
    "            lst[i]=raw[:-7]\n",
    "        except:\n",
    "            year[i]=np.nan\n",
    "            lst[i]=raw\n",
    "    return [lst,year]\n",
    "u=ext_movname(Mov['title'])\n",
    "Mov['title']=u[0]\n",
    "Mov['year']=u[1]\n",
    "CMov=Mov.reset_index(drop=True)\n",
    "def recorr(string):\n",
    "    if '(' in string:\n",
    "        nstr=string.split(' (')[0]\n",
    "    else:\n",
    "        nstr=string\n",
    "    if ',' not in nstr:\n",
    "        return nstr\n",
    "    else:\n",
    "        lst=nstr.split(sep=', ')\n",
    "        if lst[-1] not in {'The', 'A'}:\n",
    "            return nstr\n",
    "        else:\n",
    "            nlst=lst[:-1]\n",
    "            new=lst[-1]+' '\n",
    "            for j in nlst:\n",
    "                new=new+j\n",
    "            return new\n",
    "CMov['title']=CMov['title'].apply(recorr)"
   ]
  },
  {
   "cell_type": "code",
   "execution_count": 7,
   "metadata": {},
   "outputs": [],
   "source": [
    "def extract_year(time_se):\n",
    "    return time.localtime(time_se).tm_year\n",
    "Ye=Rat['timestamp'].apply(extract_year)\n",
    "Rat['timestamp']=Ye"
   ]
  },
  {
   "cell_type": "code",
   "execution_count": 8,
   "metadata": {},
   "outputs": [],
   "source": [
    "R_Mov=pd.merge(CMov,Rat,on=['movieId'])\n",
    "col=list(R_Mov.columns)\n",
    "col[1]='name'\n",
    "R_Mov.columns=col\n",
    "R_Mov=R_Mov[['movieId','name','year','rating']]"
   ]
  },
  {
   "cell_type": "code",
   "execution_count": 9,
   "metadata": {},
   "outputs": [],
   "source": [
    "M_Rev=pd.merge(R_Mov,Rev,how='inner',on=['name','year'])"
   ]
  },
  {
   "cell_type": "code",
   "execution_count": 10,
   "metadata": {},
   "outputs": [],
   "source": [
    "Tot_grp=M_Rev.groupby(by=['movieId','name','year','genre','gross'],as_index=False)\n",
    "Tot=Tot_grp.count()\n",
    "lg_count=Tot_grp.count()['rating'].apply(np.log)\n",
    "Tot['lg_count']=lg_count\n",
    "Tot=Tot.drop(['rating'],axis=1)\n",
    "mean=Tot_grp.mean()['rating']\n",
    "Tot['mean']=mean\n",
    "Tot=Tot.drop(['name','year'],axis=1)\n",
    "Tot['lg_gross']=Tot['gross'].apply(np.log)\n",
    "Tot=Tot.drop(['gross'],axis=1)\n",
    "Tot['Const']=1"
   ]
  },
  {
   "cell_type": "code",
   "execution_count": 11,
   "metadata": {},
   "outputs": [],
   "source": [
    "# Regression on total\n",
    "import statsmodels.api as sm"
   ]
  },
  {
   "cell_type": "code",
   "execution_count": 12,
   "metadata": {},
   "outputs": [],
   "source": [
    "X1=Tot[['lg_count','Const']]\n",
    "Y1=Tot['lg_gross']\n",
    "Reg_tot1=sm.OLS(Y1,X1)\n",
    "Reg_tot1=Reg_tot1.fit()"
   ]
  },
  {
   "cell_type": "code",
   "execution_count": 13,
   "metadata": {},
   "outputs": [
    {
     "data": {
      "text/html": [
       "<table class=\"simpletable\">\n",
       "<caption>OLS Regression Results</caption>\n",
       "<tr>\n",
       "  <th>Dep. Variable:</th>        <td>lg_gross</td>     <th>  R-squared:         </th> <td>   0.363</td> \n",
       "</tr>\n",
       "<tr>\n",
       "  <th>Model:</th>                   <td>OLS</td>       <th>  Adj. R-squared:    </th> <td>   0.363</td> \n",
       "</tr>\n",
       "<tr>\n",
       "  <th>Method:</th>             <td>Least Squares</td>  <th>  F-statistic:       </th> <td>   3358.</td> \n",
       "</tr>\n",
       "<tr>\n",
       "  <th>Date:</th>             <td>Sun, 20 Sep 2020</td> <th>  Prob (F-statistic):</th>  <td>  0.00</td>  \n",
       "</tr>\n",
       "<tr>\n",
       "  <th>Time:</th>                 <td>12:53:31</td>     <th>  Log-Likelihood:    </th> <td> -12235.</td> \n",
       "</tr>\n",
       "<tr>\n",
       "  <th>No. Observations:</th>      <td>  5902</td>      <th>  AIC:               </th> <td>2.447e+04</td>\n",
       "</tr>\n",
       "<tr>\n",
       "  <th>Df Residuals:</th>          <td>  5900</td>      <th>  BIC:               </th> <td>2.449e+04</td>\n",
       "</tr>\n",
       "<tr>\n",
       "  <th>Df Model:</th>              <td>     1</td>      <th>                     </th>     <td> </td>    \n",
       "</tr>\n",
       "<tr>\n",
       "  <th>Covariance Type:</th>      <td>nonrobust</td>    <th>                     </th>     <td> </td>    \n",
       "</tr>\n",
       "</table>\n",
       "<table class=\"simpletable\">\n",
       "<tr>\n",
       "      <td></td>        <th>coef</th>     <th>std err</th>      <th>t</th>      <th>P>|t|</th>  <th>[0.025</th>    <th>0.975]</th>  \n",
       "</tr>\n",
       "<tr>\n",
       "  <th>lg_count</th> <td>    0.7496</td> <td>    0.013</td> <td>   57.948</td> <td> 0.000</td> <td>    0.724</td> <td>    0.775</td>\n",
       "</tr>\n",
       "<tr>\n",
       "  <th>Const</th>    <td>   10.8683</td> <td>    0.089</td> <td>  121.967</td> <td> 0.000</td> <td>   10.694</td> <td>   11.043</td>\n",
       "</tr>\n",
       "</table>\n",
       "<table class=\"simpletable\">\n",
       "<tr>\n",
       "  <th>Omnibus:</th>       <td>794.274</td> <th>  Durbin-Watson:     </th> <td>   1.795</td> \n",
       "</tr>\n",
       "<tr>\n",
       "  <th>Prob(Omnibus):</th> <td> 0.000</td>  <th>  Jarque-Bera (JB):  </th> <td>1282.028</td> \n",
       "</tr>\n",
       "<tr>\n",
       "  <th>Skew:</th>          <td>-0.928</td>  <th>  Prob(JB):          </th> <td>4.09e-279</td>\n",
       "</tr>\n",
       "<tr>\n",
       "  <th>Kurtosis:</th>      <td> 4.330</td>  <th>  Cond. No.          </th> <td>    25.0</td> \n",
       "</tr>\n",
       "</table><br/><br/>Warnings:<br/>[1] Standard Errors assume that the covariance matrix of the errors is correctly specified."
      ],
      "text/plain": [
       "<class 'statsmodels.iolib.summary.Summary'>\n",
       "\"\"\"\n",
       "                            OLS Regression Results                            \n",
       "==============================================================================\n",
       "Dep. Variable:               lg_gross   R-squared:                       0.363\n",
       "Model:                            OLS   Adj. R-squared:                  0.363\n",
       "Method:                 Least Squares   F-statistic:                     3358.\n",
       "Date:                Sun, 20 Sep 2020   Prob (F-statistic):               0.00\n",
       "Time:                        12:53:31   Log-Likelihood:                -12235.\n",
       "No. Observations:                5902   AIC:                         2.447e+04\n",
       "Df Residuals:                    5900   BIC:                         2.449e+04\n",
       "Df Model:                           1                                         \n",
       "Covariance Type:            nonrobust                                         \n",
       "==============================================================================\n",
       "                 coef    std err          t      P>|t|      [0.025      0.975]\n",
       "------------------------------------------------------------------------------\n",
       "lg_count       0.7496      0.013     57.948      0.000       0.724       0.775\n",
       "Const         10.8683      0.089    121.967      0.000      10.694      11.043\n",
       "==============================================================================\n",
       "Omnibus:                      794.274   Durbin-Watson:                   1.795\n",
       "Prob(Omnibus):                  0.000   Jarque-Bera (JB):             1282.028\n",
       "Skew:                          -0.928   Prob(JB):                    4.09e-279\n",
       "Kurtosis:                       4.330   Cond. No.                         25.0\n",
       "==============================================================================\n",
       "\n",
       "Warnings:\n",
       "[1] Standard Errors assume that the covariance matrix of the errors is correctly specified.\n",
       "\"\"\""
      ]
     },
     "execution_count": 13,
     "metadata": {},
     "output_type": "execute_result"
    }
   ],
   "source": [
    "Reg_tot1.summary()"
   ]
  },
  {
   "cell_type": "code",
   "execution_count": 15,
   "metadata": {},
   "outputs": [],
   "source": [
    "Y2=Reg_tot1.resid\n",
    "X2=Tot[['mean','Const']]\n",
    "Reg_tot2=sm.OLS(Y2,X2)\n",
    "Reg_tot2=Reg_tot2.fit()"
   ]
  },
  {
   "cell_type": "code",
   "execution_count": 28,
   "metadata": {},
   "outputs": [
    {
     "data": {
      "text/plain": [
       "Text(0, 0.5, 'log gross with log count regressed away')"
      ]
     },
     "execution_count": 28,
     "metadata": {},
     "output_type": "execute_result"
    },
    {
     "data": {
      "image/png": "[encoded data removed]",
      "text/plain": [
       "<Figure size 432x288 with 1 Axes>"
      ]
     },
     "metadata": {
      "needs_background": "light"
     },
     "output_type": "display_data"
    }
   ],
   "source": [
    "import seaborn as sns\n",
    "sns.regplot(Tot['mean'], Reg_tot1.resid)\n",
    "plt.xlabel(r'Mean rating')\n",
    "plt.ylabel(r'log gross with log count regressed away')"
   ]
  },
  {
   "cell_type": "code",
   "execution_count": 22,
   "metadata": {},
   "outputs": [
    {
     "data": {
      "text/plain": [
       "array([[ 1.        , -0.26011786],\n",
       "       [-0.26011786,  1.        ]])"
      ]
     },
     "execution_count": 22,
     "metadata": {},
     "output_type": "execute_result"
    }
   ],
   "source": [
    "np.corrcoef(Tot['mean'], Reg_tot1.resid)"
   ]
  },
  {
   "cell_type": "code",
   "execution_count": 21,
   "metadata": {},
   "outputs": [
    {
     "data": {
      "text/plain": [
       "[<matplotlib.lines.Line2D at 0x7f5f915ecf90>]"
      ]
     },
     "execution_count": 21,
     "metadata": {},
     "output_type": "execute_result"
    },
    {
     "data": {
      "image/png": "[encoded data removed]",
      "text/plain": [
       "<Figure size 432x288 with 1 Axes>"
      ]
     },
     "metadata": {
      "needs_background": "light"
     },
     "output_type": "display_data"
    }
   ],
   "source": [
    "plt.plot(Tot['mean'], Reg_tot1.resid, '.')"
   ]
  },
  {
   "cell_type": "code",
   "execution_count": 16,
   "metadata": {},
   "outputs": [
    {
     "data": {
      "text/html": [
       "<table class=\"simpletable\">\n",
       "<caption>OLS Regression Results</caption>\n",
       "<tr>\n",
       "  <th>Dep. Variable:</th>            <td>y</td>        <th>  R-squared:         </th> <td>   0.068</td> \n",
       "</tr>\n",
       "<tr>\n",
       "  <th>Model:</th>                   <td>OLS</td>       <th>  Adj. R-squared:    </th> <td>   0.068</td> \n",
       "</tr>\n",
       "<tr>\n",
       "  <th>Method:</th>             <td>Least Squares</td>  <th>  F-statistic:       </th> <td>   428.2</td> \n",
       "</tr>\n",
       "<tr>\n",
       "  <th>Date:</th>             <td>Sun, 20 Sep 2020</td> <th>  Prob (F-statistic):</th> <td>6.96e-92</td> \n",
       "</tr>\n",
       "<tr>\n",
       "  <th>Time:</th>                 <td>12:53:48</td>     <th>  Log-Likelihood:    </th> <td> -12028.</td> \n",
       "</tr>\n",
       "<tr>\n",
       "  <th>No. Observations:</th>      <td>  5902</td>      <th>  AIC:               </th> <td>2.406e+04</td>\n",
       "</tr>\n",
       "<tr>\n",
       "  <th>Df Residuals:</th>          <td>  5900</td>      <th>  BIC:               </th> <td>2.407e+04</td>\n",
       "</tr>\n",
       "<tr>\n",
       "  <th>Df Model:</th>              <td>     1</td>      <th>                     </th>     <td> </td>    \n",
       "</tr>\n",
       "<tr>\n",
       "  <th>Covariance Type:</th>      <td>nonrobust</td>    <th>                     </th>     <td> </td>    \n",
       "</tr>\n",
       "</table>\n",
       "<table class=\"simpletable\">\n",
       "<tr>\n",
       "    <td></td>       <th>coef</th>     <th>std err</th>      <th>t</th>      <th>P>|t|</th>  <th>[0.025</th>    <th>0.975]</th>  \n",
       "</tr>\n",
       "<tr>\n",
       "  <th>mean</th>  <td>   -1.0171</td> <td>    0.049</td> <td>  -20.692</td> <td> 0.000</td> <td>   -1.113</td> <td>   -0.921</td>\n",
       "</tr>\n",
       "<tr>\n",
       "  <th>Const</th> <td>    3.2089</td> <td>    0.157</td> <td>   20.445</td> <td> 0.000</td> <td>    2.901</td> <td>    3.517</td>\n",
       "</tr>\n",
       "</table>\n",
       "<table class=\"simpletable\">\n",
       "<tr>\n",
       "  <th>Omnibus:</th>       <td>910.441</td> <th>  Durbin-Watson:     </th> <td>   1.801</td>\n",
       "</tr>\n",
       "<tr>\n",
       "  <th>Prob(Omnibus):</th> <td> 0.000</td>  <th>  Jarque-Bera (JB):  </th> <td>1709.401</td>\n",
       "</tr>\n",
       "<tr>\n",
       "  <th>Skew:</th>          <td>-0.968</td>  <th>  Prob(JB):          </th> <td>    0.00</td>\n",
       "</tr>\n",
       "<tr>\n",
       "  <th>Kurtosis:</th>      <td> 4.789</td>  <th>  Cond. No.          </th> <td>    22.7</td>\n",
       "</tr>\n",
       "</table><br/><br/>Warnings:<br/>[1] Standard Errors assume that the covariance matrix of the errors is correctly specified."
      ],
      "text/plain": [
       "<class 'statsmodels.iolib.summary.Summary'>\n",
       "\"\"\"\n",
       "                            OLS Regression Results                            \n",
       "==============================================================================\n",
       "Dep. Variable:                      y   R-squared:                       0.068\n",
       "Model:                            OLS   Adj. R-squared:                  0.068\n",
       "Method:                 Least Squares   F-statistic:                     428.2\n",
       "Date:                Sun, 20 Sep 2020   Prob (F-statistic):           6.96e-92\n",
       "Time:                        12:53:48   Log-Likelihood:                -12028.\n",
       "No. Observations:                5902   AIC:                         2.406e+04\n",
       "Df Residuals:                    5900   BIC:                         2.407e+04\n",
       "Df Model:                           1                                         \n",
       "Covariance Type:            nonrobust                                         \n",
       "==============================================================================\n",
       "                 coef    std err          t      P>|t|      [0.025      0.975]\n",
       "------------------------------------------------------------------------------\n",
       "mean          -1.0171      0.049    -20.692      0.000      -1.113      -0.921\n",
       "Const          3.2089      0.157     20.445      0.000       2.901       3.517\n",
       "==============================================================================\n",
       "Omnibus:                      910.441   Durbin-Watson:                   1.801\n",
       "Prob(Omnibus):                  0.000   Jarque-Bera (JB):             1709.401\n",
       "Skew:                          -0.968   Prob(JB):                         0.00\n",
       "Kurtosis:                       4.789   Cond. No.                         22.7\n",
       "==============================================================================\n",
       "\n",
       "Warnings:\n",
       "[1] Standard Errors assume that the covariance matrix of the errors is correctly specified.\n",
       "\"\"\""
      ]
     },
     "execution_count": 16,
     "metadata": {},
     "output_type": "execute_result"
    }
   ],
   "source": [
    "Reg_tot2.summary()"
   ]
  },
  {
   "cell_type": "code",
   "execution_count": 17,
   "metadata": {},
   "outputs": [],
   "source": [
    "# Collect the testing informations\n",
    "Info_regtot1=pd.DataFrame()\n",
    "Info_regtot1['group']=['Total','Total','Total','Total']\n",
    "Info_regtot1['params']=['lg_count','Const1','mean','Const2']\n",
    "Info_regtot1['Coefs']=list(Reg_tot1.params)+list(Reg_tot2.params)\n",
    "Info_regtot1['t']=list(Reg_tot1.tvalues)+list(Reg_tot2.tvalues)\n",
    "Info_regtot1['p>|t|']=list(Reg_tot1.pvalues)+list(Reg_tot2.pvalues)"
   ]
  },
  {
   "cell_type": "code",
   "execution_count": 18,
   "metadata": {},
   "outputs": [
    {
     "name": "stderr",
     "output_type": "stream",
     "text": [
      "/home/sbg/anaconda3/lib/python3.7/site-packages/statsmodels/regression/linear_model.py:1578: RuntimeWarning: divide by zero encountered in double_scalars\n",
      "  return np.dot(wresid, wresid) / self.df_resid\n",
      "/home/sbg/anaconda3/lib/python3.7/site-packages/statsmodels/regression/linear_model.py:1578: RuntimeWarning: invalid value encountered in double_scalars\n",
      "  return np.dot(wresid, wresid) / self.df_resid\n",
      "/home/sbg/anaconda3/lib/python3.7/site-packages/scipy/stats/_distn_infrastructure.py:901: RuntimeWarning: invalid value encountered in greater\n",
      "  return (a < x) & (x < b)\n",
      "/home/sbg/anaconda3/lib/python3.7/site-packages/scipy/stats/_distn_infrastructure.py:901: RuntimeWarning: invalid value encountered in less\n",
      "  return (a < x) & (x < b)\n",
      "/home/sbg/anaconda3/lib/python3.7/site-packages/scipy/stats/_distn_infrastructure.py:1892: RuntimeWarning: invalid value encountered in less_equal\n",
      "  cond2 = cond0 & (x <= _a)\n"
     ]
    }
   ],
   "source": [
    "# Now for different genres\n",
    "genres=list(Tot.groupby('genre').count().index)\n",
    "for i in genres:\n",
    "    df=pd.DataFrame()\n",
    "    df['group']=[i,i,i,i]\n",
    "    X01=Tot[['lg_count','Const']][Tot.genre==i]\n",
    "    Y01=Tot['lg_gross'][Tot.genre==i]\n",
    "    Reg_tot01=sm.OLS(Y01,X01)\n",
    "    Reg_tot01=Reg_tot01.fit()\n",
    "    Y02=Reg_tot01.resid\n",
    "    X02=Tot[['mean','Const']][Tot.genre==i]\n",
    "    Reg_tot02=sm.OLS(Y02,X02)\n",
    "    Reg_tot02=Reg_tot02.fit()   \n",
    "    df['params']=['lg_count','Const1','mean','Const2']\n",
    "    df['Coefs']=list(Reg_tot01.params)+list(Reg_tot02.params)\n",
    "    df['t']=list(Reg_tot01.tvalues)+list(Reg_tot02.tvalues)\n",
    "    df['p>|t|']=list(Reg_tot01.pvalues)+list(Reg_tot02.pvalues)\n",
    "    Info_regtot1=pd.concat([Info_regtot1,df],axis=0)"
   ]
  },
  {
   "cell_type": "code",
   "execution_count": 19,
   "metadata": {},
   "outputs": [
    {
     "data": {
      "text/html": [
       "<div>\n",
       "<style scoped>\n",
       "    .dataframe tbody tr th:only-of-type {\n",
       "        vertical-align: middle;\n",
       "    }\n",
       "\n",
       "    .dataframe tbody tr th {\n",
       "        vertical-align: top;\n",
       "    }\n",
       "\n",
       "    .dataframe thead th {\n",
       "        text-align: right;\n",
       "    }\n",
       "</style>\n",
       "<table border=\"1\" class=\"dataframe\">\n",
       "  <thead>\n",
       "    <tr style=\"text-align: right;\">\n",
       "      <th></th>\n",
       "      <th>group</th>\n",
       "      <th>params</th>\n",
       "      <th>Coefs</th>\n",
       "      <th>t</th>\n",
       "      <th>p&gt;|t|</th>\n",
       "    </tr>\n",
       "  </thead>\n",
       "  <tbody>\n",
       "    <tr>\n",
       "      <td>0</td>\n",
       "      <td>Total</td>\n",
       "      <td>lg_count</td>\n",
       "      <td>7.495918e-01</td>\n",
       "      <td>57.947905</td>\n",
       "      <td>0.000000e+00</td>\n",
       "    </tr>\n",
       "    <tr>\n",
       "      <td>1</td>\n",
       "      <td>Total</td>\n",
       "      <td>Const1</td>\n",
       "      <td>1.086829e+01</td>\n",
       "      <td>121.967072</td>\n",
       "      <td>0.000000e+00</td>\n",
       "    </tr>\n",
       "    <tr>\n",
       "      <td>2</td>\n",
       "      <td>Total</td>\n",
       "      <td>mean</td>\n",
       "      <td>-1.017086e+00</td>\n",
       "      <td>-20.692327</td>\n",
       "      <td>6.962488e-92</td>\n",
       "    </tr>\n",
       "    <tr>\n",
       "      <td>3</td>\n",
       "      <td>Total</td>\n",
       "      <td>Const2</td>\n",
       "      <td>3.208944e+00</td>\n",
       "      <td>20.445343</td>\n",
       "      <td>8.058718e-90</td>\n",
       "    </tr>\n",
       "    <tr>\n",
       "      <td>0</td>\n",
       "      <td>Action</td>\n",
       "      <td>lg_count</td>\n",
       "      <td>7.070113e-01</td>\n",
       "      <td>28.170918</td>\n",
       "      <td>1.952697e-133</td>\n",
       "    </tr>\n",
       "    <tr>\n",
       "      <td>...</td>\n",
       "      <td>...</td>\n",
       "      <td>...</td>\n",
       "      <td>...</td>\n",
       "      <td>...</td>\n",
       "      <td>...</td>\n",
       "    </tr>\n",
       "    <tr>\n",
       "      <td>3</td>\n",
       "      <td>War</td>\n",
       "      <td>Const2</td>\n",
       "      <td>3.068077e-14</td>\n",
       "      <td>NaN</td>\n",
       "      <td>NaN</td>\n",
       "    </tr>\n",
       "    <tr>\n",
       "      <td>0</td>\n",
       "      <td>Western</td>\n",
       "      <td>lg_count</td>\n",
       "      <td>-1.858845e+00</td>\n",
       "      <td>-0.000000</td>\n",
       "      <td>NaN</td>\n",
       "    </tr>\n",
       "    <tr>\n",
       "      <td>1</td>\n",
       "      <td>Western</td>\n",
       "      <td>Const1</td>\n",
       "      <td>2.298115e+01</td>\n",
       "      <td>0.000000</td>\n",
       "      <td>NaN</td>\n",
       "    </tr>\n",
       "    <tr>\n",
       "      <td>2</td>\n",
       "      <td>Western</td>\n",
       "      <td>mean</td>\n",
       "      <td>-3.405539e-15</td>\n",
       "      <td>-0.000000</td>\n",
       "      <td>NaN</td>\n",
       "    </tr>\n",
       "    <tr>\n",
       "      <td>3</td>\n",
       "      <td>Western</td>\n",
       "      <td>Const2</td>\n",
       "      <td>2.278342e-14</td>\n",
       "      <td>0.000000</td>\n",
       "      <td>NaN</td>\n",
       "    </tr>\n",
       "  </tbody>\n",
       "</table>\n",
       "<p>72 rows × 5 columns</p>\n",
       "</div>"
      ],
      "text/plain": [
       "      group    params         Coefs           t          p>|t|\n",
       "0     Total  lg_count  7.495918e-01   57.947905   0.000000e+00\n",
       "1     Total    Const1  1.086829e+01  121.967072   0.000000e+00\n",
       "2     Total      mean -1.017086e+00  -20.692327   6.962488e-92\n",
       "3     Total    Const2  3.208944e+00   20.445343   8.058718e-90\n",
       "0    Action  lg_count  7.070113e-01   28.170918  1.952697e-133\n",
       "..      ...       ...           ...         ...            ...\n",
       "3       War    Const2  3.068077e-14         NaN            NaN\n",
       "0   Western  lg_count -1.858845e+00   -0.000000            NaN\n",
       "1   Western    Const1  2.298115e+01    0.000000            NaN\n",
       "2   Western      mean -3.405539e-15   -0.000000            NaN\n",
       "3   Western    Const2  2.278342e-14    0.000000            NaN\n",
       "\n",
       "[72 rows x 5 columns]"
      ]
     },
     "execution_count": 19,
     "metadata": {},
     "output_type": "execute_result"
    }
   ],
   "source": [
    "Info_regtot1"
   ]
  },
  {
   "cell_type": "code",
   "execution_count": 165,
   "metadata": {},
   "outputs": [],
   "source": [
    "Info_regtot1.to_csv('Results_reg.csv')"
   ]
  },
  {
   "cell_type": "code",
   "execution_count": null,
   "metadata": {},
   "outputs": [],
   "source": []
  }
 ],
 "metadata": {
  "kernelspec": {
   "display_name": "Python 3",
   "language": "python",
   "name": "python3"
  },
  "language_info": {
   "codemirror_mode": {
    "name": "ipython",
    "version": 3
   },
   "file_extension": ".py",
   "mimetype": "text/x-python",
   "name": "python",
   "nbconvert_exporter": "python",
   "pygments_lexer": "ipython3",
   "version": "3.7.4"
  },
  "varInspector": {
   "cols": {
    "lenName": 16,
    "lenType": 16,
    "lenVar": 40
   },
   "kernels_config": {
    "python": {
     "delete_cmd_postfix": "",
     "delete_cmd_prefix": "del ",
     "library": "var_list.py",
     "varRefreshCmd": "print(var_dic_list())"
    },
    "r": {
     "delete_cmd_postfix": ") ",
     "delete_cmd_prefix": "rm(",
     "library": "var_list.r",
     "varRefreshCmd": "cat(var_dic_list()) "
    }
   },
   "types_to_exclude": [
    "module",
    "function",
    "builtin_function_or_method",
    "instance",
    "_Feature"
   ],
   "window_display": false
  }
 },
 "nbformat": 4,
 "nbformat_minor": 2
}
