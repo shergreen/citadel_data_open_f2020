{
 "cells": [
  {
   "cell_type": "code",
   "execution_count": 1,
   "metadata": {},
   "outputs": [],
   "source": [
    "import numpy as np\n",
    "import pandas as pd\n",
    "import time\n",
    "import matplotlib.pyplot as plt\n",
    "from sklearn.linear_model import LogisticRegression\n",
    "from sklearn.metrics import recall_score, confusion_matrix, f1_score, roc_auc_score\n",
    "import sklearn"
   ]
  },
  {
   "cell_type": "code",
   "execution_count": 3,
   "metadata": {},
   "outputs": [
    {
     "name": "stderr",
     "output_type": "stream",
     "text": [
      "/home/sbg/anaconda3/lib/python3.7/site-packages/ipykernel_launcher.py:50: SettingWithCopyWarning: \n",
      "A value is trying to be set on a copy of a slice from a DataFrame\n",
      "\n",
      "See the caveats in the documentation: http://pandas.pydata.org/pandas-docs/stable/user_guide/indexing.html#returning-a-view-versus-a-copy\n",
      "/home/sbg/anaconda3/lib/python3.7/site-packages/ipykernel_launcher.py:68: SettingWithCopyWarning: \n",
      "A value is trying to be set on a copy of a slice from a DataFrame\n",
      "\n",
      "See the caveats in the documentation: http://pandas.pydata.org/pandas-docs/stable/user_guide/indexing.html#returning-a-view-versus-a-copy\n"
     ]
    }
   ],
   "source": [
    "# Import datasets\n",
    "Mov=pd.read_csv('../data/movie_lense/movies.csv',sep=',')\n",
    "Rat=pd.read_csv('../data/movie_lense/ratings.csv')\n",
    "Osc=pd.read_csv('../data/the_oscar_award.csv')\n",
    "## Now start cleaning\n",
    "# Transforming movies dataset: extract the years\n",
    "def ext_movname(tlist):\n",
    "    lst=tlist.copy()\n",
    "    year=tlist.copy()\n",
    "    for i in range(len(tlist)):\n",
    "        raw=tlist[i].rstrip()\n",
    "        try:\n",
    "            year[i]=int(raw[-5:-1])\n",
    "            lst[i]=raw[:-7]\n",
    "        except:\n",
    "            year[i]=np.nan\n",
    "            lst[i]=raw\n",
    "    return [lst,year]\n",
    "u=ext_movname(Mov['title'])\n",
    "Mov['title']=u[0]\n",
    "Mov['year']=u[1]\n",
    "CMov=Mov[Mov.year>=2008]\n",
    "CMov=CMov.reset_index(drop=True)\n",
    "# Function for recorrect the film name\n",
    "def recorr(string):\n",
    "    if '(' in string:\n",
    "        nstr=string.split(' (')[0]\n",
    "    else:\n",
    "        nstr=string\n",
    "    if ',' not in nstr:\n",
    "        return nstr\n",
    "    else:\n",
    "        lst=nstr.split(sep=', ')\n",
    "        if lst[-1] not in {'The', 'A'}:\n",
    "            return nstr\n",
    "        else:\n",
    "            nlst=lst[:-1]\n",
    "            new=lst[-1]+' '\n",
    "            for j in nlst:\n",
    "                new=new+j\n",
    "            return new\n",
    "CMov['title']=CMov['title'].apply(recorr)\n",
    "# Choose the ceremony year and file name columns\n",
    "C_osc=Osc[['year_ceremony','film']].dropna().copy()\n",
    "C_osc=C_osc.reset_index(drop=True)\n",
    "C_osc['film']=C_osc['film'].apply(recorr)\n",
    "for i in range(len(C_osc)):\n",
    "    if C_osc['film'][i][-1]==';':\n",
    "        u=C_osc['film'][i][-1]\n",
    "        C_osc['film'][i]=u[:-1]\n",
    "C_osc=C_osc[C_osc.year_ceremony>=2009]\n",
    "C_osc=C_osc.drop_duplicates(subset=['film'], keep='first').reset_index(drop=True)\n",
    "# Combine into CMov\n",
    "D_osc={C_osc['film'][i]:C_osc['year_ceremony'][i] for i in range(len(C_osc))}\n",
    "lst=[]\n",
    "for i in range(len(CMov['title'])):\n",
    "    if CMov['title'][i] in D_osc:\n",
    "        lst.append(D_osc[CMov['title'][i]])\n",
    "    else:\n",
    "        lst.append(0)\n",
    "CMov['Oscar']=lst\n",
    "cls=[int(i>0) for i in lst]\n",
    "CMov['Class']=cls\n",
    "ava_y=CMov['Oscar']\n",
    "cmp_y=CMov['year']\n",
    "for i in range(len(ava_y)):\n",
    "    if ava_y[i]==0:\n",
    "        ava_y[i]=cmp_y[i]+1\n",
    "CMov['Oscar']=ava_y\n",
    "# Transfering timestamp: extract the year data\n",
    "def extract_year(time_se):\n",
    "    return time.localtime(time_se).tm_year\n",
    "Ye=Rat['timestamp'].apply(extract_year)\n",
    "Rat['timestamp']=Ye\n",
    "# Merge CMov and Rat, and filter the available rating times\n",
    "R_Mov=pd.merge(CMov,Rat,on=['movieId'])\n",
    "Ava_rating=R_Mov[((R_Mov.timestamp<=R_Mov.Oscar) & (R_Mov.timestamp>=R_Mov.Oscar-1))].reset_index(drop=True)[['movieId','Class','rating']]\n",
    "# Using groupby to get count, mean and var\n",
    "g_rat=Ava_rating.groupby(by=['movieId','Class'],as_index=False)\n",
    "Sta_rate=g_rat.count()\n",
    "Sta_rate['mean']=g_rat.mean()['rating']\n",
    "Sta_rate['std']=g_rat.std()['rating'].fillna(0)\n",
    "# Change column name\n",
    "colname=list(Sta_rate.columns)\n",
    "colname[2]='lg_ratetimes'\n",
    "colname[3]='rate_mean'\n",
    "colname[4]='rate_std'\n",
    "Sta_rate.columns=colname"
   ]
  },
  {
   "cell_type": "code",
   "execution_count": 4,
   "metadata": {},
   "outputs": [
    {
     "data": {
      "text/plain": [
       "(array([1.0918e+04, 1.3800e+02, 3.3000e+01, 1.9000e+01, 9.0000e+00,\n",
       "        5.0000e+00, 3.0000e+00, 2.0000e+00, 2.0000e+00, 2.0000e+00]),\n",
       " array([1.0000e+00, 1.0935e+03, 2.1860e+03, 3.2785e+03, 4.3710e+03,\n",
       "        5.4635e+03, 6.5560e+03, 7.6485e+03, 8.7410e+03, 9.8335e+03,\n",
       "        1.0926e+04]),\n",
       " <a list of 10 Patch objects>)"
      ]
     },
     "execution_count": 4,
     "metadata": {},
     "output_type": "execute_result"
    },
    {
     "data": {
      "image/png": "[encoded data removed]",
      "text/plain": [
       "<Figure size 432x288 with 1 Axes>"
      ]
     },
     "metadata": {
      "needs_background": "light"
     },
     "output_type": "display_data"
    }
   ],
   "source": [
    "plt.hist(Sta_rate['lg_ratetimes'])"
   ]
  },
  {
   "cell_type": "code",
   "execution_count": 5,
   "metadata": {},
   "outputs": [],
   "source": [
    "Sta_rate['lg_ratetimes']=Sta_rate['lg_ratetimes'].apply(np.log10)  # log transform the counts"
   ]
  },
  {
   "cell_type": "code",
   "execution_count": 6,
   "metadata": {},
   "outputs": [
    {
     "ename": "NameError",
     "evalue": "name 'df' is not defined",
     "output_type": "error",
     "traceback": [
      "\u001b[0;31m---------------------------------------------------------------------------\u001b[0m",
      "\u001b[0;31mNameError\u001b[0m                                 Traceback (most recent call last)",
      "\u001b[0;32m<ipython-input-6-f012e9dd8f8d>\u001b[0m in \u001b[0;36m<module>\u001b[0;34m\u001b[0m\n\u001b[0;32m----> 1\u001b[0;31m \u001b[0mplt\u001b[0m\u001b[0;34m.\u001b[0m\u001b[0mhist\u001b[0m\u001b[0;34m(\u001b[0m\u001b[0mdf\u001b[0m\u001b[0;34m.\u001b[0m\u001b[0mlg_ratetimes\u001b[0m\u001b[0;34m)\u001b[0m\u001b[0;34m\u001b[0m\u001b[0;34m\u001b[0m\u001b[0m\n\u001b[0m",
      "\u001b[0;31mNameError\u001b[0m: name 'df' is not defined"
     ]
    }
   ],
   "source": [
    "plt.hist(df.lg_ratetimes)"
   ]
  },
  {
   "cell_type": "code",
   "execution_count": 7,
   "metadata": {},
   "outputs": [],
   "source": [
    "Sta_rate.to_csv(\"Sta_rate.csv\")"
   ]
  },
  {
   "cell_type": "code",
   "execution_count": 8,
   "metadata": {},
   "outputs": [
    {
     "name": "stderr",
     "output_type": "stream",
     "text": [
      "/home/sbg/anaconda3/lib/python3.7/site-packages/sklearn/linear_model/logistic.py:432: FutureWarning: Default solver will be changed to 'lbfgs' in 0.22. Specify a solver to silence this warning.\n",
      "  FutureWarning)\n"
     ]
    }
   ],
   "source": [
    "# Finally, apply logistic regression\n",
    "Y=Sta_rate['Class']\n",
    "X=Sta_rate[['lg_ratetimes','rate_mean','rate_std']]\n",
    "# Random shuffle, and split dataset\n",
    "np.random.seed(625)\n",
    "rp=np.random.permutation(len(Y))\n",
    "X_train=X.iloc[rp[2000:]]\n",
    "X_test=X.iloc[rp[:2000]]\n",
    "Y_train=Y.iloc[rp[2000:]]\n",
    "Y_test=Y.iloc[rp[:2000]]\n",
    "# Model fitting\n",
    "clf=LogisticRegression(class_weight='balanced').fit(X_train,Y_train)"
   ]
  },
  {
   "cell_type": "code",
   "execution_count": 9,
   "metadata": {},
   "outputs": [
    {
     "name": "stdout",
     "output_type": "stream",
     "text": [
      "logit(p)=-4.0809+1.4732log(rate_times)+0.7424rate_mean+-0.8771rate_std\n"
     ]
    }
   ],
   "source": [
    "# Model coefficients\n",
    "expr='logit(p)='+str(round(clf.intercept_[0],4))+'+'+str(round(clf.coef_[0][0],4))+'log(rate_times)'+'+'+str(round(clf.coef_[0][1],4))+'rate_mean'+'+'+str(round(clf.coef_[0][2],4))+'rate_std'\n",
    "print(expr)\n",
    "# This means the model is logit(p)=-4.2509+0.6389log(rate_times)+0.7838rate_mean+-0.8406rate_std"
   ]
  },
  {
   "cell_type": "code",
   "execution_count": 10,
   "metadata": {},
   "outputs": [
    {
     "data": {
      "text/plain": [
       "0.8345"
      ]
     },
     "execution_count": 10,
     "metadata": {},
     "output_type": "execute_result"
    }
   ],
   "source": [
    "# Now using upon testing dataset\n",
    "# Fitting score\n",
    "clf.score(X_test,Y_test)"
   ]
  },
  {
   "cell_type": "code",
   "execution_count": 11,
   "metadata": {},
   "outputs": [
    {
     "name": "stdout",
     "output_type": "stream",
     "text": [
      "The test error is:  16.55%\n"
     ]
    }
   ],
   "source": [
    "# Or:\n",
    "err=np.mean(clf.predict(X_test)!=Y_test)\n",
    "print('The test error is:  %.2f%%' % (err*100))"
   ]
  },
  {
   "cell_type": "code",
   "execution_count": 12,
   "metadata": {},
   "outputs": [
    {
     "name": "stderr",
     "output_type": "stream",
     "text": [
      "/home/sbg/anaconda3/lib/python3.7/site-packages/ipykernel_launcher.py:11: SettingWithCopyWarning: \n",
      "A value is trying to be set on a copy of a slice from a DataFrame.\n",
      "Try using .loc[row_indexer,col_indexer] = value instead\n",
      "\n",
      "See the caveats in the documentation: http://pandas.pydata.org/pandas-docs/stable/user_guide/indexing.html#returning-a-view-versus-a-copy\n",
      "  # This is added back by InteractiveShellApp.init_path()\n"
     ]
    }
   ],
   "source": [
    "# Try statsmodels.api for Statistical Inference\n",
    "import statsmodels.api as sm\n",
    "import statsmodels.formula.api as smf\n",
    "# First of all, get the frequency weight, which is the same as that in \n",
    "# LogisticRegression(class_weight='balanced')\n",
    "np.random.seed(625)\n",
    "rp=np.random.permutation(len(Y))\n",
    "Train=Sta_rate.iloc[rp[2000:]]\n",
    "Test=Sta_rate.iloc[rp[:2000]]\n",
    "W=Train.groupby('Class').count()['movieId']\n",
    "Train['weight']=(W[1]+(W[0]-W[1])*Train['Class'])/W[1]"
   ]
  },
  {
   "cell_type": "code",
   "execution_count": 13,
   "metadata": {},
   "outputs": [],
   "source": [
    "# Using logistic regression.\n",
    "glm=smf.glm('Class~lg_ratetimes+rate_mean+rate_std',data=Train,\n",
    "            family=sm.families.Binomial(),\n",
    "           freq_weights=Train['weight'])\n",
    "clf2=glm.fit()"
   ]
  },
  {
   "cell_type": "code",
   "execution_count": 14,
   "metadata": {},
   "outputs": [
    {
     "data": {
      "text/html": [
       "<table class=\"simpletable\">\n",
       "<caption>Generalized Linear Model Regression Results</caption>\n",
       "<tr>\n",
       "  <th>Dep. Variable:</th>         <td>Class</td>      <th>  No. Observations:  </th>  <td>  9131</td> \n",
       "</tr>\n",
       "<tr>\n",
       "  <th>Model:</th>                  <td>GLM</td>       <th>  Df Residuals:      </th> <td>17440.00</td>\n",
       "</tr>\n",
       "<tr>\n",
       "  <th>Model Family:</th>        <td>Binomial</td>     <th>  Df Model:          </th>  <td>     3</td> \n",
       "</tr>\n",
       "<tr>\n",
       "  <th>Link Function:</th>         <td>logit</td>      <th>  Scale:             </th> <td>  1.0000</td>\n",
       "</tr>\n",
       "<tr>\n",
       "  <th>Method:</th>                <td>IRLS</td>       <th>  Log-Likelihood:    </th> <td> -8075.5</td>\n",
       "</tr>\n",
       "<tr>\n",
       "  <th>Date:</th>            <td>Fri, 18 Sep 2020</td> <th>  Deviance:          </th> <td>  16151.</td>\n",
       "</tr>\n",
       "<tr>\n",
       "  <th>Time:</th>                <td>17:06:08</td>     <th>  Pearson chi2:      </th> <td>2.06e+04</td>\n",
       "</tr>\n",
       "<tr>\n",
       "  <th>No. Iterations:</th>          <td>5</td>        <th>                     </th>     <td> </td>   \n",
       "</tr>\n",
       "<tr>\n",
       "  <th>Covariance Type:</th>     <td>nonrobust</td>    <th>                     </th>     <td> </td>   \n",
       "</tr>\n",
       "</table>\n",
       "<table class=\"simpletable\">\n",
       "<tr>\n",
       "        <td></td>          <th>coef</th>     <th>std err</th>      <th>z</th>      <th>P>|z|</th>  <th>[0.025</th>    <th>0.975]</th>  \n",
       "</tr>\n",
       "<tr>\n",
       "  <th>Intercept</th>    <td>   -4.2507</td> <td>    0.150</td> <td>  -28.369</td> <td> 0.000</td> <td>   -4.544</td> <td>   -3.957</td>\n",
       "</tr>\n",
       "<tr>\n",
       "  <th>lg_ratetimes</th> <td>    1.4726</td> <td>    0.025</td> <td>   58.090</td> <td> 0.000</td> <td>    1.423</td> <td>    1.522</td>\n",
       "</tr>\n",
       "<tr>\n",
       "  <th>rate_mean</th>    <td>    0.7845</td> <td>    0.039</td> <td>   20.323</td> <td> 0.000</td> <td>    0.709</td> <td>    0.860</td>\n",
       "</tr>\n",
       "<tr>\n",
       "  <th>rate_std</th>     <td>   -0.8467</td> <td>    0.066</td> <td>  -12.910</td> <td> 0.000</td> <td>   -0.975</td> <td>   -0.718</td>\n",
       "</tr>\n",
       "</table>"
      ],
      "text/plain": [
       "<class 'statsmodels.iolib.summary.Summary'>\n",
       "\"\"\"\n",
       "                 Generalized Linear Model Regression Results                  \n",
       "==============================================================================\n",
       "Dep. Variable:                  Class   No. Observations:                 9131\n",
       "Model:                            GLM   Df Residuals:                 17440.00\n",
       "Model Family:                Binomial   Df Model:                            3\n",
       "Link Function:                  logit   Scale:                          1.0000\n",
       "Method:                          IRLS   Log-Likelihood:                -8075.5\n",
       "Date:                Fri, 18 Sep 2020   Deviance:                       16151.\n",
       "Time:                        17:06:08   Pearson chi2:                 2.06e+04\n",
       "No. Iterations:                     5                                         \n",
       "Covariance Type:            nonrobust                                         \n",
       "================================================================================\n",
       "                   coef    std err          z      P>|z|      [0.025      0.975]\n",
       "--------------------------------------------------------------------------------\n",
       "Intercept       -4.2507      0.150    -28.369      0.000      -4.544      -3.957\n",
       "lg_ratetimes     1.4726      0.025     58.090      0.000       1.423       1.522\n",
       "rate_mean        0.7845      0.039     20.323      0.000       0.709       0.860\n",
       "rate_std        -0.8467      0.066    -12.910      0.000      -0.975      -0.718\n",
       "================================================================================\n",
       "\"\"\""
      ]
     },
     "execution_count": 14,
     "metadata": {},
     "output_type": "execute_result"
    }
   ],
   "source": [
    "# First of all, the summary\n",
    "clf2.summary()\n",
    "# According to the result, all of the parameter tests are remarkable.\n",
    "# And the results in the two models are really close."
   ]
  },
  {
   "cell_type": "code",
   "execution_count": 15,
   "metadata": {},
   "outputs": [
    {
     "name": "stdout",
     "output_type": "stream",
     "text": [
      "The test error is:  16.70%\n"
     ]
    }
   ],
   "source": [
    "# This predicting error\n",
    "pred=clf2.predict(X_test)\n",
    "err2=np.mean((pred>0.5)!=Y_test)\n",
    "print('The test error is:  %.2f%%' % (err2*100))"
   ]
  },
  {
   "cell_type": "code",
   "execution_count": 16,
   "metadata": {},
   "outputs": [
    {
     "name": "stdout",
     "output_type": "stream",
     "text": [
      "The test error in class 1 is:  27.27%\n",
      "The test error in class 0 is:  16.12%\n"
     ]
    }
   ],
   "source": [
    "# Finally we focus on the error upon different classes\n",
    "# Using LogisticRegression in scikit:\n",
    "# The Oscar class(label 1)\n",
    "C1=clf.predict(X_test[Y_test==1])\n",
    "err_c1=np.mean(C1!=1)\n",
    "print('The test error in class 1 is:  %.2f%%' % (err_c1*100))\n",
    "# The Non-Oscar class(label 0)\n",
    "C2=clf.predict(X_test[Y_test==0])\n",
    "err_c2=np.mean(C2!=0)\n",
    "print('The test error in class 0 is:  %.2f%%' % (err_c2*100))"
   ]
  },
  {
   "cell_type": "code",
   "execution_count": 17,
   "metadata": {},
   "outputs": [
    {
     "name": "stdout",
     "output_type": "stream",
     "text": [
      "The test error in class 1 is:  27.27%\n",
      "The test error in class 0 is:  16.28%\n"
     ]
    }
   ],
   "source": [
    "# Using glm in statsmodels:\n",
    "# The Oscar class(label 1)\n",
    "C1_s=clf2.predict(X_test[Y_test==1])\n",
    "err_c1s=np.mean((C1_s>=0.5)!=1)\n",
    "print('The test error in class 1 is:  %.2f%%' % (err_c1s*100))\n",
    "# The Non-Oscar class(label 0)\n",
    "C2_s=clf2.predict(X_test[Y_test==0])\n",
    "err_c2s=np.mean((C2_s<0.5)!=1)\n",
    "print('The test error in class 0 is:  %.2f%%' % (err_c2s*100))"
   ]
  },
  {
   "cell_type": "code",
   "execution_count": 18,
   "metadata": {},
   "outputs": [],
   "source": [
    "## Or: consider confusion matrix\n",
    "from sklearn.metrics import confusion_matrix\n",
    "M1=confusion_matrix(Y_test,clf.predict(X_test))"
   ]
  },
  {
   "cell_type": "code",
   "execution_count": 19,
   "metadata": {},
   "outputs": [
    {
     "data": {
      "text/plain": [
       "array([[1613,  310],\n",
       "       [  21,   56]])"
      ]
     },
     "execution_count": 19,
     "metadata": {},
     "output_type": "execute_result"
    }
   ],
   "source": [
    "M1"
   ]
  },
  {
   "cell_type": "code",
   "execution_count": 20,
   "metadata": {},
   "outputs": [],
   "source": [
    "M2=confusion_matrix(Y_test,clf2.predict(X_test)>0.5)"
   ]
  },
  {
   "cell_type": "code",
   "execution_count": 21,
   "metadata": {},
   "outputs": [],
   "source": [
    "# Add: Correlation matrix of the three parameters"
   ]
  },
  {
   "cell_type": "code",
   "execution_count": 22,
   "metadata": {},
   "outputs": [
    {
     "data": {
      "text/plain": [
       "Text(0.5, 1, 'Heatmap of the correlation matrix upon total data')"
      ]
     },
     "execution_count": 22,
     "metadata": {},
     "output_type": "execute_result"
    },
    {
     "data": {
      "image/png": "[encoded data removed]",
      "text/plain": [
       "<Figure size 576x576 with 2 Axes>"
      ]
     },
     "metadata": {
      "needs_background": "light"
     },
     "output_type": "display_data"
    }
   ],
   "source": [
    "import seaborn as sn\n",
    "Cor_total=np.corrcoef(X,rowvar=0)\n",
    "fig,ax=plt.subplots(figsize=(8,8))\n",
    "sn.heatmap(Cor_total,annot=True,cmap=\"YlGnBu\")\n",
    "ax.set_xticklabels(list(X.columns))\n",
    "ax.set_yticklabels(list(X.columns))\n",
    "ax.set_title('Heatmap of the correlation matrix upon total data')"
   ]
  },
  {
   "cell_type": "code",
   "execution_count": 23,
   "metadata": {},
   "outputs": [
    {
     "data": {
      "text/plain": [
       "Text(0.5, 1, 'Heatmap of the correlation matrix upon training data')"
      ]
     },
     "execution_count": 23,
     "metadata": {},
     "output_type": "execute_result"
    },
    {
     "data": {
      "image/png": "[encoded data removed]",
      "text/plain": [
       "<Figure size 576x576 with 2 Axes>"
      ]
     },
     "metadata": {
      "needs_background": "light"
     },
     "output_type": "display_data"
    }
   ],
   "source": [
    "Cor_train=np.corrcoef(X_train,rowvar=0)\n",
    "fig,ax=plt.subplots(figsize=(8,8))\n",
    "sn.heatmap(Cor_train,annot=True,cmap=\"YlGnBu\")\n",
    "ax.set_xticklabels(list(X_train.columns))\n",
    "ax.set_yticklabels(list(X_train.columns))\n",
    "ax.set_title('Heatmap of the correlation matrix upon training data')"
   ]
  },
  {
   "cell_type": "code",
   "execution_count": 24,
   "metadata": {},
   "outputs": [
    {
     "data": {
      "text/plain": [
       "Text(0.5, 1, 'Heatmap of the correlation matrix upon testing data')"
      ]
     },
     "execution_count": 24,
     "metadata": {},
     "output_type": "execute_result"
    },
    {
     "data": {
      "image/png": "[encoded data removed]",
      "text/plain": [
       "<Figure size 576x576 with 2 Axes>"
      ]
     },
     "metadata": {
      "needs_background": "light"
     },
     "output_type": "display_data"
    }
   ],
   "source": [
    "Cor_test=np.corrcoef(X_test,rowvar=0)\n",
    "fig,ax=plt.subplots(figsize=(8,8))\n",
    "sn.heatmap(Cor_test,annot=True,cmap=\"YlGnBu\")\n",
    "ax.set_xticklabels(list(X_test.columns))\n",
    "ax.set_yticklabels(list(X_test.columns))\n",
    "ax.set_title('Heatmap of the correlation matrix upon testing data')"
   ]
  },
  {
   "cell_type": "markdown",
   "metadata": {},
   "source": [
    "## Logistic regression diagnostics"
   ]
  },
  {
   "cell_type": "code",
   "execution_count": 25,
   "metadata": {},
   "outputs": [],
   "source": [
    "df = Sta_rate"
   ]
  },
  {
   "cell_type": "code",
   "execution_count": 26,
   "metadata": {},
   "outputs": [
    {
     "data": {
      "text/plain": [
       "Index(['movieId', 'Class', 'lg_ratetimes', 'rate_mean', 'rate_std'], dtype='object')"
      ]
     },
     "execution_count": 26,
     "metadata": {},
     "output_type": "execute_result"
    }
   ],
   "source": [
    "df.columns"
   ]
  },
  {
   "cell_type": "code",
   "execution_count": 27,
   "metadata": {},
   "outputs": [
    {
     "ename": "SyntaxError",
     "evalue": "invalid syntax (<ipython-input-27-24c5549f6cda>, line 1)",
     "output_type": "error",
     "traceback": [
      "\u001b[0;36m  File \u001b[0;32m\"<ipython-input-27-24c5549f6cda>\"\u001b[0;36m, line \u001b[0;32m1\u001b[0m\n\u001b[0;31m    plt.hist(np.log((df.lg_ratetimes+10^))\u001b[0m\n\u001b[0m                                        ^\u001b[0m\n\u001b[0;31mSyntaxError\u001b[0m\u001b[0;31m:\u001b[0m invalid syntax\n"
     ]
    }
   ],
   "source": [
    "#plt.hist(np.log((df.lg_ratetimes+10^))"
   ]
  },
  {
   "cell_type": "code",
   "execution_count": 28,
   "metadata": {},
   "outputs": [],
   "source": [
    "from sklearn.model_selection import train_test_split"
   ]
  },
  {
   "cell_type": "code",
   "execution_count": 29,
   "metadata": {},
   "outputs": [],
   "source": [
    "y = df.Class\n",
    "X = df.drop('Class', axis=1)\n",
    "X_train, X_test, y_train, y_test = train_test_split(X, y, test_size=0.25, random_state=27)"
   ]
  },
  {
   "cell_type": "code",
   "execution_count": 30,
   "metadata": {},
   "outputs": [],
   "source": [
    "from sklearn.utils import resample"
   ]
  },
  {
   "cell_type": "code",
   "execution_count": 31,
   "metadata": {},
   "outputs": [],
   "source": [
    "X = pd.concat([X_train, y_train], axis=1)\n",
    "not_oscar = X[X.Class==0]\n",
    "oscar = X[X.Class==1]"
   ]
  },
  {
   "cell_type": "code",
   "execution_count": 32,
   "metadata": {},
   "outputs": [],
   "source": [
    "# upsample minority\n",
    "oscar_upsampled = resample(oscar,\n",
    "                          replace=True, # sample with replacement\n",
    "                          n_samples=len(not_oscar), # match number in majority class\n",
    "                          random_state=27) # reproducible results"
   ]
  },
  {
   "cell_type": "code",
   "execution_count": 33,
   "metadata": {},
   "outputs": [],
   "source": [
    "upsampled = pd.concat([not_oscar, oscar_upsampled])"
   ]
  },
  {
   "cell_type": "code",
   "execution_count": 34,
   "metadata": {},
   "outputs": [
    {
     "data": {
      "text/plain": [
       "1    7981\n",
       "0    7981\n",
       "Name: Class, dtype: int64"
      ]
     },
     "execution_count": 34,
     "metadata": {},
     "output_type": "execute_result"
    }
   ],
   "source": [
    "upsampled.Class.value_counts()"
   ]
  },
  {
   "cell_type": "code",
   "execution_count": 35,
   "metadata": {},
   "outputs": [],
   "source": [
    "upsampled.to_csv(\"upsampled.csv\")"
   ]
  },
  {
   "cell_type": "code",
   "execution_count": 36,
   "metadata": {},
   "outputs": [],
   "source": [
    "# Try statsmodels.api for Statistical Inference\n",
    "import statsmodels.api as sm\n",
    "import statsmodels.formula.api as smf"
   ]
  },
  {
   "cell_type": "code",
   "execution_count": 37,
   "metadata": {},
   "outputs": [],
   "source": [
    "# Using logistic regression.\n",
    "glm=smf.glm('Class~lg_ratetimes+rate_mean+rate_std',data=upsampled,\n",
    "            family=sm.families.Binomial())\n",
    "clf2=glm.fit()"
   ]
  },
  {
   "cell_type": "code",
   "execution_count": 38,
   "metadata": {},
   "outputs": [
    {
     "data": {
      "text/html": [
       "<table class=\"simpletable\">\n",
       "<caption>Generalized Linear Model Regression Results</caption>\n",
       "<tr>\n",
       "  <th>Dep. Variable:</th>         <td>Class</td>      <th>  No. Observations:  </th>  <td> 15962</td> \n",
       "</tr>\n",
       "<tr>\n",
       "  <th>Model:</th>                  <td>GLM</td>       <th>  Df Residuals:      </th>  <td> 15958</td> \n",
       "</tr>\n",
       "<tr>\n",
       "  <th>Model Family:</th>        <td>Binomial</td>     <th>  Df Model:          </th>  <td>     3</td> \n",
       "</tr>\n",
       "<tr>\n",
       "  <th>Link Function:</th>         <td>logit</td>      <th>  Scale:             </th> <td>  1.0000</td>\n",
       "</tr>\n",
       "<tr>\n",
       "  <th>Method:</th>                <td>IRLS</td>       <th>  Log-Likelihood:    </th> <td> -6909.6</td>\n",
       "</tr>\n",
       "<tr>\n",
       "  <th>Date:</th>            <td>Fri, 18 Sep 2020</td> <th>  Deviance:          </th> <td>  13819.</td>\n",
       "</tr>\n",
       "<tr>\n",
       "  <th>Time:</th>                <td>17:06:46</td>     <th>  Pearson chi2:      </th> <td>2.55e+04</td>\n",
       "</tr>\n",
       "<tr>\n",
       "  <th>No. Iterations:</th>          <td>6</td>        <th>                     </th>     <td> </td>   \n",
       "</tr>\n",
       "<tr>\n",
       "  <th>Covariance Type:</th>     <td>nonrobust</td>    <th>                     </th>     <td> </td>   \n",
       "</tr>\n",
       "</table>\n",
       "<table class=\"simpletable\">\n",
       "<tr>\n",
       "        <td></td>          <th>coef</th>     <th>std err</th>      <th>z</th>      <th>P>|z|</th>  <th>[0.025</th>    <th>0.975]</th>  \n",
       "</tr>\n",
       "<tr>\n",
       "  <th>Intercept</th>    <td>   -5.7185</td> <td>    0.185</td> <td>  -30.932</td> <td> 0.000</td> <td>   -6.081</td> <td>   -5.356</td>\n",
       "</tr>\n",
       "<tr>\n",
       "  <th>lg_ratetimes</th> <td>    1.5485</td> <td>    0.028</td> <td>   56.155</td> <td> 0.000</td> <td>    1.494</td> <td>    1.603</td>\n",
       "</tr>\n",
       "<tr>\n",
       "  <th>rate_mean</th>    <td>    1.1149</td> <td>    0.046</td> <td>   24.417</td> <td> 0.000</td> <td>    1.025</td> <td>    1.204</td>\n",
       "</tr>\n",
       "<tr>\n",
       "  <th>rate_std</th>     <td>   -0.6212</td> <td>    0.075</td> <td>   -8.304</td> <td> 0.000</td> <td>   -0.768</td> <td>   -0.475</td>\n",
       "</tr>\n",
       "</table>"
      ],
      "text/plain": [
       "<class 'statsmodels.iolib.summary.Summary'>\n",
       "\"\"\"\n",
       "                 Generalized Linear Model Regression Results                  \n",
       "==============================================================================\n",
       "Dep. Variable:                  Class   No. Observations:                15962\n",
       "Model:                            GLM   Df Residuals:                    15958\n",
       "Model Family:                Binomial   Df Model:                            3\n",
       "Link Function:                  logit   Scale:                          1.0000\n",
       "Method:                          IRLS   Log-Likelihood:                -6909.6\n",
       "Date:                Fri, 18 Sep 2020   Deviance:                       13819.\n",
       "Time:                        17:06:46   Pearson chi2:                 2.55e+04\n",
       "No. Iterations:                     6                                         \n",
       "Covariance Type:            nonrobust                                         \n",
       "================================================================================\n",
       "                   coef    std err          z      P>|z|      [0.025      0.975]\n",
       "--------------------------------------------------------------------------------\n",
       "Intercept       -5.7185      0.185    -30.932      0.000      -6.081      -5.356\n",
       "lg_ratetimes     1.5485      0.028     56.155      0.000       1.494       1.603\n",
       "rate_mean        1.1149      0.046     24.417      0.000       1.025       1.204\n",
       "rate_std        -0.6212      0.075     -8.304      0.000      -0.768      -0.475\n",
       "================================================================================\n",
       "\"\"\""
      ]
     },
     "execution_count": 38,
     "metadata": {},
     "output_type": "execute_result"
    }
   ],
   "source": [
    "clf2.summary()"
   ]
  },
  {
   "cell_type": "code",
   "execution_count": 39,
   "metadata": {},
   "outputs": [],
   "source": [
    "y_train = upsampled.Class\n",
    "X_train = upsampled.drop('Class', axis=1)\n",
    "clf = LogisticRegression(solver='liblinear').fit(X_train, y_train)\n",
    "y_pred = clf.predict(X_test)"
   ]
  },
  {
   "cell_type": "code",
   "execution_count": 40,
   "metadata": {
    "scrolled": true
   },
   "outputs": [
    {
     "data": {
      "text/plain": [
       "0.1758241758241758"
      ]
     },
     "execution_count": 40,
     "metadata": {},
     "output_type": "execute_result"
    }
   ],
   "source": [
    "f1_score(y_test, y_pred)"
   ]
  },
  {
   "cell_type": "code",
   "execution_count": 41,
   "metadata": {},
   "outputs": [
    {
     "data": {
      "text/plain": [
       "0.6722689075630253"
      ]
     },
     "execution_count": 41,
     "metadata": {},
     "output_type": "execute_result"
    }
   ],
   "source": [
    "recall_score(y_test, y_pred)"
   ]
  },
  {
   "cell_type": "code",
   "execution_count": 42,
   "metadata": {},
   "outputs": [
    {
     "data": {
      "text/plain": [
       "0.7026885078355667"
      ]
     },
     "execution_count": 42,
     "metadata": {},
     "output_type": "execute_result"
    }
   ],
   "source": [
    "roc_auc_score(y_test, y_pred)"
   ]
  },
  {
   "cell_type": "code",
   "execution_count": null,
   "metadata": {},
   "outputs": [],
   "source": []
  }
 ],
 "metadata": {
  "kernelspec": {
   "display_name": "Python 3",
   "language": "python",
   "name": "python3"
  },
  "language_info": {
   "codemirror_mode": {
    "name": "ipython",
    "version": 3
   },
   "file_extension": ".py",
   "mimetype": "text/x-python",
   "name": "python",
   "nbconvert_exporter": "python",
   "pygments_lexer": "ipython3",
   "version": "3.7.4"
  },
  "varInspector": {
   "cols": {
    "lenName": 16,
    "lenType": 16,
    "lenVar": 40
   },
   "kernels_config": {
    "python": {
     "delete_cmd_postfix": "",
     "delete_cmd_prefix": "del ",
     "library": "var_list.py",
     "varRefreshCmd": "print(var_dic_list())"
    },
    "r": {
     "delete_cmd_postfix": ") ",
     "delete_cmd_prefix": "rm(",
     "library": "var_list.r",
     "varRefreshCmd": "cat(var_dic_list()) "
    }
   },
   "types_to_exclude": [
    "module",
    "function",
    "builtin_function_or_method",
    "instance",
    "_Feature"
   ],
   "window_display": false
  }
 },
 "nbformat": 4,
 "nbformat_minor": 2
}
