{
 "cells": [
  {
   "cell_type": "code",
   "execution_count": 2,
   "metadata": {},
   "outputs": [],
   "source": [
    "import numpy as np\n",
    "import pandas as pd\n",
    "import time\n",
    "import matplotlib.pyplot as plt"
   ]
  },
  {
   "cell_type": "code",
   "execution_count": 81,
   "metadata": {},
   "outputs": [
    {
     "name": "stderr",
     "output_type": "stream",
     "text": [
      "/Users/lihuayu/anaconda3/lib/python3.7/site-packages/ipykernel_launcher.py:50: SettingWithCopyWarning: \n",
      "A value is trying to be set on a copy of a slice from a DataFrame\n",
      "\n",
      "See the caveats in the documentation: https://pandas.pydata.org/pandas-docs/stable/user_guide/indexing.html#returning-a-view-versus-a-copy\n"
     ]
    }
   ],
   "source": [
    "# Import datasets\n",
    "Mov=pd.read_csv('movies.csv',sep=',')\n",
    "Rat=pd.read_csv('ratings.csv')\n",
    "Osc=pd.read_csv('the_oscar_award.csv')\n",
    "## Now start cleaning\n",
    "# Transforming movies dataset: extract the years\n",
    "def ext_movname(tlist):\n",
    "    lst=tlist.copy()\n",
    "    year=tlist.copy()\n",
    "    for i in range(len(tlist)):\n",
    "        raw=tlist[i].rstrip()\n",
    "        try:\n",
    "            year[i]=int(raw[-5:-1])\n",
    "            lst[i]=raw[:-7]\n",
    "        except:\n",
    "            year[i]=np.nan\n",
    "            lst[i]=raw\n",
    "    return [lst,year]\n",
    "u=ext_movname(Mov['title'])\n",
    "Mov['title']=u[0]\n",
    "Mov['year']=u[1]\n",
    "CMov=Mov[Mov.year>=2008]\n",
    "CMov=CMov.reset_index(drop=True)\n",
    "# Function for recorrect the film name\n",
    "def recorr(string):\n",
    "    if '(' in string:\n",
    "        nstr=string.split(' (')[0]\n",
    "    else:\n",
    "        nstr=string\n",
    "    if ',' not in nstr:\n",
    "        return nstr\n",
    "    else:\n",
    "        lst=nstr.split(sep=', ')\n",
    "        if lst[-1] not in {'The', 'A'}:\n",
    "            return nstr\n",
    "        else:\n",
    "            nlst=lst[:-1]\n",
    "            new=lst[-1]+' '\n",
    "            for j in nlst:\n",
    "                new=new+j\n",
    "            return new\n",
    "CMov['title']=CMov['title'].apply(recorr)\n",
    "# Choose the ceremony year and file name columns\n",
    "C_osc=Osc[['year_ceremony','film','year_film']].dropna().copy()\n",
    "C_osc=C_osc.reset_index(drop=True)\n",
    "C_osc['film']=C_osc['film'].apply(recorr)\n",
    "for i in range(len(C_osc)):\n",
    "    if C_osc['film'][i][-1]==';':\n",
    "        u=C_osc['film'][i][-1]\n",
    "        C_osc['film'][i]=u[:-1]\n",
    "C_osc=C_osc[C_osc.year_ceremony>=2009]\n",
    "C_osc=C_osc.drop_duplicates(subset=['film','year_film'], keep='first').reset_index(drop=True)"
   ]
  },
  {
   "cell_type": "code",
   "execution_count": 82,
   "metadata": {},
   "outputs": [],
   "source": [
    "D_osc={(C_osc['film'][i],C_osc['year_film'][i]):C_osc['year_ceremony'][i] for i in range(len(C_osc))}\n",
    "\n",
    "lst=[]\n",
    "for i in range(len(CMov['title'])):\n",
    "    if (CMov['title'][i],CMov['year'][i]) in D_osc:\n",
    "        lst.append(D_osc[(CMov['title'][i],CMov['year'][i])])\n",
    "    else:\n",
    "        lst.append(0)\n",
    "CMov['Oscar']=lst    \n",
    "CMov=CMov[CMov.Oscar!=0]"
   ]
  },
  {
   "cell_type": "code",
   "execution_count": 116,
   "metadata": {},
   "outputs": [],
   "source": [
    "# Transfering timestamp: extract the year data\n",
    "def extract_year(time_se):\n",
    "    return time.localtime(time_se).tm_year\n",
    "Ye=Rat['timestamp'].apply(extract_year)\n",
    "Rat['timestamp']=Ye"
   ]
  },
  {
   "cell_type": "code",
   "execution_count": 118,
   "metadata": {},
   "outputs": [],
   "source": [
    "# Merge CMov and Rat, and filter the available rating times\n",
    "R_Mov=pd.merge(CMov,Rat,on=['movieId'])\n",
    "Ava_rating=R_Mov.reset_index(drop=True)[['movieId','title','Oscar','timestamp','rating']]"
   ]
  },
  {
   "cell_type": "code",
   "execution_count": 124,
   "metadata": {},
   "outputs": [],
   "source": [
    "prev=Ava_rating[Ava_rating.timestamp<=Ava_rating.Oscar][['movieId','rating']]\n",
    "after=Ava_rating[Ava_rating.timestamp>Ava_rating.Oscar][['movieId','rating']]"
   ]
  },
  {
   "cell_type": "code",
   "execution_count": 152,
   "metadata": {},
   "outputs": [],
   "source": [
    "# Now calculate for the parameters\n",
    "gprev=prev.groupby('movieId',as_index=False)\n",
    "Stat_prev=gprev.count()\n",
    "meanp=gprev.mean()['rating']\n",
    "Stat_prev['prev_mean']=meanp\n",
    "varp=gprev.var().fillna(0)['rating']\n",
    "Stat_prev['prev_var']=varp\n",
    "Stat_prev=Stat_prev[['movieId','prev_mean','prev_var']]"
   ]
  },
  {
   "cell_type": "code",
   "execution_count": 154,
   "metadata": {},
   "outputs": [],
   "source": [
    "# Now calculate for the parameters\n",
    "gafter=after.groupby('movieId',as_index=False)\n",
    "Stat_after=gafter.count()\n",
    "meana=gafter.mean()['rating']\n",
    "Stat_after['after_mean']=meana\n",
    "vara=gafter.var().fillna(0)['rating']\n",
    "Stat_after['after_var']=vara\n",
    "Stat_after=Stat_after[['movieId','after_mean','after_var']]"
   ]
  },
  {
   "cell_type": "code",
   "execution_count": 157,
   "metadata": {},
   "outputs": [],
   "source": [
    "# Now merge\n",
    "Compare=pd.merge(Stat_prev,Stat_after,how='left',on=['movieId'])"
   ]
  },
  {
   "cell_type": "code",
   "execution_count": 159,
   "metadata": {},
   "outputs": [],
   "source": [
    "Compare['mean_diff']=Compare['after_mean']-Compare['prev_mean']\n",
    "Compare['var_diff']=Compare['after_var']-Compare['prev_var']"
   ]
  },
  {
   "cell_type": "code",
   "execution_count": 163,
   "metadata": {},
   "outputs": [],
   "source": [
    "Compare.to_csv('Comp_change.csv')"
   ]
  },
  {
   "cell_type": "code",
   "execution_count": null,
   "metadata": {},
   "outputs": [],
   "source": []
  }
 ],
 "metadata": {
  "kernelspec": {
   "display_name": "Python 3",
   "language": "python",
   "name": "python3"
  },
  "language_info": {
   "codemirror_mode": {
    "name": "ipython",
    "version": 3
   },
   "file_extension": ".py",
   "mimetype": "text/x-python",
   "name": "python",
   "nbconvert_exporter": "python",
   "pygments_lexer": "ipython3",
   "version": "3.7.4"
  },
  "varInspector": {
   "cols": {
    "lenName": 16,
    "lenType": 16,
    "lenVar": 40
   },
   "kernels_config": {
    "python": {
     "delete_cmd_postfix": "",
     "delete_cmd_prefix": "del ",
     "library": "var_list.py",
     "varRefreshCmd": "print(var_dic_list())"
    },
    "r": {
     "delete_cmd_postfix": ") ",
     "delete_cmd_prefix": "rm(",
     "library": "var_list.r",
     "varRefreshCmd": "cat(var_dic_list()) "
    }
   },
   "types_to_exclude": [
    "module",
    "function",
    "builtin_function_or_method",
    "instance",
    "_Feature"
   ],
   "window_display": false
  }
 },
 "nbformat": 4,
 "nbformat_minor": 2
}
