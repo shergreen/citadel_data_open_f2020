{
 "cells": [
  {
   "cell_type": "code",
   "execution_count": null,
   "metadata": {},
   "outputs": [],
   "source": [
    "# Linear regression"
   ]
  },
  {
   "cell_type": "code",
   "execution_count": 10,
   "metadata": {},
   "outputs": [],
   "source": [
    "import numpy as np\n",
    "import pandas as pd\n",
    "import matplotlib.pyplot as plt\n",
    "import time"
   ]
  },
  {
   "cell_type": "code",
   "execution_count": 19,
   "metadata": {},
   "outputs": [],
   "source": [
    "Rev=pd.read_csv('movie_industry.csv',encoding = \"ISO-8859-1\")\n",
    "Rev=Rev[['genre','gross','name','year']]"
   ]
  },
  {
   "cell_type": "code",
   "execution_count": 33,
   "metadata": {},
   "outputs": [],
   "source": [
    "Mov=pd.read_csv('movies.csv',sep=',')\n",
    "Rat=pd.read_csv('ratings.csv')\n",
    "def ext_movname(tlist):\n",
    "    lst=tlist.copy()\n",
    "    year=tlist.copy()\n",
    "    for i in range(len(tlist)):\n",
    "        raw=tlist[i].rstrip()\n",
    "        try:\n",
    "            year[i]=int(raw[-5:-1])\n",
    "            lst[i]=raw[:-7]\n",
    "        except:\n",
    "            year[i]=np.nan\n",
    "            lst[i]=raw\n",
    "    return [lst,year]\n",
    "u=ext_movname(Mov['title'])\n",
    "Mov['title']=u[0]\n",
    "Mov['year']=u[1]\n",
    "CMov=Mov.reset_index(drop=True)\n",
    "def recorr(string):\n",
    "    if '(' in string:\n",
    "        nstr=string.split(' (')[0]\n",
    "    else:\n",
    "        nstr=string\n",
    "    if ',' not in nstr:\n",
    "        return nstr\n",
    "    else:\n",
    "        lst=nstr.split(sep=', ')\n",
    "        if lst[-1] not in {'The', 'A'}:\n",
    "            return nstr\n",
    "        else:\n",
    "            nlst=lst[:-1]\n",
    "            new=lst[-1]+' '\n",
    "            for j in nlst:\n",
    "                new=new+j\n",
    "            return new\n",
    "CMov['title']=CMov['title'].apply(recorr)"
   ]
  },
  {
   "cell_type": "code",
   "execution_count": 11,
   "metadata": {},
   "outputs": [],
   "source": [
    "def extract_year(time_se):\n",
    "    return time.localtime(time_se).tm_year\n",
    "Ye=Rat['timestamp'].apply(extract_year)\n",
    "Rat['timestamp']=Ye"
   ]
  },
  {
   "cell_type": "code",
   "execution_count": 35,
   "metadata": {},
   "outputs": [],
   "source": [
    "R_Mov=pd.merge(CMov,Rat,on=['movieId'])\n",
    "col=list(R_Mov.columns)\n",
    "col[1]='name'\n",
    "R_Mov.columns=col\n",
    "R_Mov=R_Mov[['movieId','name','year','rating']]"
   ]
  },
  {
   "cell_type": "code",
   "execution_count": 36,
   "metadata": {},
   "outputs": [],
   "source": [
    "M_Rev=pd.merge(R_Mov,Rev,how='inner',on=['name','year'])"
   ]
  },
  {
   "cell_type": "code",
   "execution_count": 97,
   "metadata": {},
   "outputs": [],
   "source": [
    "Tot_grp=M_Rev.groupby(by=['movieId','name','year','genre','gross'],as_index=False)\n",
    "Tot=Tot_grp.count()\n",
    "lg_count=Tot_grp.count()['rating'].apply(np.log)\n",
    "Tot['lg_count']=lg_count\n",
    "Tot=Tot.drop(['rating'],axis=1)\n",
    "mean=Tot_grp.mean()['rating']\n",
    "Tot['mean']=mean\n",
    "Tot=Tot.drop(['name','year'],axis=1)\n",
    "Tot['lg_gross']=Tot['gross'].apply(np.log)\n",
    "Tot=Tot.drop(['gross'],axis=1)\n",
    "Tot['Const']=1"
   ]
  },
  {
   "cell_type": "code",
   "execution_count": 151,
   "metadata": {},
   "outputs": [],
   "source": [
    "# Regression on total\n",
    "import statsmodels.api as sm"
   ]
  },
  {
   "cell_type": "code",
   "execution_count": 152,
   "metadata": {},
   "outputs": [],
   "source": [
    "X1=Tot[['lg_count','Const']]\n",
    "Y1=Tot['lg_gross']\n",
    "Reg_tot1=sm.OLS(Y1,X1)\n",
    "Reg_tot1=Reg_tot1.fit()"
   ]
  },
  {
   "cell_type": "code",
   "execution_count": 153,
   "metadata": {},
   "outputs": [
    {
     "data": {
      "text/html": [
       "<table class=\"simpletable\">\n",
       "<caption>OLS Regression Results</caption>\n",
       "<tr>\n",
       "  <th>Dep. Variable:</th>        <td>lg_gross</td>     <th>  R-squared:         </th> <td>   0.363</td> \n",
       "</tr>\n",
       "<tr>\n",
       "  <th>Model:</th>                   <td>OLS</td>       <th>  Adj. R-squared:    </th> <td>   0.363</td> \n",
       "</tr>\n",
       "<tr>\n",
       "  <th>Method:</th>             <td>Least Squares</td>  <th>  F-statistic:       </th> <td>   3358.</td> \n",
       "</tr>\n",
       "<tr>\n",
       "  <th>Date:</th>             <td>Sun, 20 Sep 2020</td> <th>  Prob (F-statistic):</th>  <td>  0.00</td>  \n",
       "</tr>\n",
       "<tr>\n",
       "  <th>Time:</th>                 <td>12:00:39</td>     <th>  Log-Likelihood:    </th> <td> -12235.</td> \n",
       "</tr>\n",
       "<tr>\n",
       "  <th>No. Observations:</th>      <td>  5902</td>      <th>  AIC:               </th> <td>2.447e+04</td>\n",
       "</tr>\n",
       "<tr>\n",
       "  <th>Df Residuals:</th>          <td>  5900</td>      <th>  BIC:               </th> <td>2.449e+04</td>\n",
       "</tr>\n",
       "<tr>\n",
       "  <th>Df Model:</th>              <td>     1</td>      <th>                     </th>     <td> </td>    \n",
       "</tr>\n",
       "<tr>\n",
       "  <th>Covariance Type:</th>      <td>nonrobust</td>    <th>                     </th>     <td> </td>    \n",
       "</tr>\n",
       "</table>\n",
       "<table class=\"simpletable\">\n",
       "<tr>\n",
       "      <td></td>        <th>coef</th>     <th>std err</th>      <th>t</th>      <th>P>|t|</th>  <th>[0.025</th>    <th>0.975]</th>  \n",
       "</tr>\n",
       "<tr>\n",
       "  <th>lg_count</th> <td>    0.7496</td> <td>    0.013</td> <td>   57.948</td> <td> 0.000</td> <td>    0.724</td> <td>    0.775</td>\n",
       "</tr>\n",
       "<tr>\n",
       "  <th>Const</th>    <td>   10.8683</td> <td>    0.089</td> <td>  121.967</td> <td> 0.000</td> <td>   10.694</td> <td>   11.043</td>\n",
       "</tr>\n",
       "</table>\n",
       "<table class=\"simpletable\">\n",
       "<tr>\n",
       "  <th>Omnibus:</th>       <td>794.274</td> <th>  Durbin-Watson:     </th> <td>   1.795</td> \n",
       "</tr>\n",
       "<tr>\n",
       "  <th>Prob(Omnibus):</th> <td> 0.000</td>  <th>  Jarque-Bera (JB):  </th> <td>1282.028</td> \n",
       "</tr>\n",
       "<tr>\n",
       "  <th>Skew:</th>          <td>-0.928</td>  <th>  Prob(JB):          </th> <td>4.09e-279</td>\n",
       "</tr>\n",
       "<tr>\n",
       "  <th>Kurtosis:</th>      <td> 4.330</td>  <th>  Cond. No.          </th> <td>    25.0</td> \n",
       "</tr>\n",
       "</table><br/><br/>Warnings:<br/>[1] Standard Errors assume that the covariance matrix of the errors is correctly specified."
      ],
      "text/plain": [
       "<class 'statsmodels.iolib.summary.Summary'>\n",
       "\"\"\"\n",
       "                            OLS Regression Results                            \n",
       "==============================================================================\n",
       "Dep. Variable:               lg_gross   R-squared:                       0.363\n",
       "Model:                            OLS   Adj. R-squared:                  0.363\n",
       "Method:                 Least Squares   F-statistic:                     3358.\n",
       "Date:                Sun, 20 Sep 2020   Prob (F-statistic):               0.00\n",
       "Time:                        12:00:39   Log-Likelihood:                -12235.\n",
       "No. Observations:                5902   AIC:                         2.447e+04\n",
       "Df Residuals:                    5900   BIC:                         2.449e+04\n",
       "Df Model:                           1                                         \n",
       "Covariance Type:            nonrobust                                         \n",
       "==============================================================================\n",
       "                 coef    std err          t      P>|t|      [0.025      0.975]\n",
       "------------------------------------------------------------------------------\n",
       "lg_count       0.7496      0.013     57.948      0.000       0.724       0.775\n",
       "Const         10.8683      0.089    121.967      0.000      10.694      11.043\n",
       "==============================================================================\n",
       "Omnibus:                      794.274   Durbin-Watson:                   1.795\n",
       "Prob(Omnibus):                  0.000   Jarque-Bera (JB):             1282.028\n",
       "Skew:                          -0.928   Prob(JB):                    4.09e-279\n",
       "Kurtosis:                       4.330   Cond. No.                         25.0\n",
       "==============================================================================\n",
       "\n",
       "Warnings:\n",
       "[1] Standard Errors assume that the covariance matrix of the errors is correctly specified.\n",
       "\"\"\""
      ]
     },
     "execution_count": 153,
     "metadata": {},
     "output_type": "execute_result"
    }
   ],
   "source": [
    "Reg_tot1.summary()"
   ]
  },
  {
   "cell_type": "code",
   "execution_count": 154,
   "metadata": {},
   "outputs": [],
   "source": [
    "Y2=Reg_tot1.resid\n",
    "X2=Tot[['mean','Const']]\n",
    "Reg_tot2=sm.OLS(Y2,X2)\n",
    "Reg_tot2=Reg_tot2.fit()"
   ]
  },
  {
   "cell_type": "code",
   "execution_count": 155,
   "metadata": {},
   "outputs": [
    {
     "data": {
      "text/html": [
       "<table class=\"simpletable\">\n",
       "<caption>OLS Regression Results</caption>\n",
       "<tr>\n",
       "  <th>Dep. Variable:</th>            <td>y</td>        <th>  R-squared:         </th> <td>   0.068</td> \n",
       "</tr>\n",
       "<tr>\n",
       "  <th>Model:</th>                   <td>OLS</td>       <th>  Adj. R-squared:    </th> <td>   0.068</td> \n",
       "</tr>\n",
       "<tr>\n",
       "  <th>Method:</th>             <td>Least Squares</td>  <th>  F-statistic:       </th> <td>   428.2</td> \n",
       "</tr>\n",
       "<tr>\n",
       "  <th>Date:</th>             <td>Sun, 20 Sep 2020</td> <th>  Prob (F-statistic):</th> <td>6.96e-92</td> \n",
       "</tr>\n",
       "<tr>\n",
       "  <th>Time:</th>                 <td>12:00:40</td>     <th>  Log-Likelihood:    </th> <td> -12028.</td> \n",
       "</tr>\n",
       "<tr>\n",
       "  <th>No. Observations:</th>      <td>  5902</td>      <th>  AIC:               </th> <td>2.406e+04</td>\n",
       "</tr>\n",
       "<tr>\n",
       "  <th>Df Residuals:</th>          <td>  5900</td>      <th>  BIC:               </th> <td>2.407e+04</td>\n",
       "</tr>\n",
       "<tr>\n",
       "  <th>Df Model:</th>              <td>     1</td>      <th>                     </th>     <td> </td>    \n",
       "</tr>\n",
       "<tr>\n",
       "  <th>Covariance Type:</th>      <td>nonrobust</td>    <th>                     </th>     <td> </td>    \n",
       "</tr>\n",
       "</table>\n",
       "<table class=\"simpletable\">\n",
       "<tr>\n",
       "    <td></td>       <th>coef</th>     <th>std err</th>      <th>t</th>      <th>P>|t|</th>  <th>[0.025</th>    <th>0.975]</th>  \n",
       "</tr>\n",
       "<tr>\n",
       "  <th>mean</th>  <td>   -1.0171</td> <td>    0.049</td> <td>  -20.692</td> <td> 0.000</td> <td>   -1.113</td> <td>   -0.921</td>\n",
       "</tr>\n",
       "<tr>\n",
       "  <th>Const</th> <td>    3.2089</td> <td>    0.157</td> <td>   20.445</td> <td> 0.000</td> <td>    2.901</td> <td>    3.517</td>\n",
       "</tr>\n",
       "</table>\n",
       "<table class=\"simpletable\">\n",
       "<tr>\n",
       "  <th>Omnibus:</th>       <td>910.441</td> <th>  Durbin-Watson:     </th> <td>   1.801</td>\n",
       "</tr>\n",
       "<tr>\n",
       "  <th>Prob(Omnibus):</th> <td> 0.000</td>  <th>  Jarque-Bera (JB):  </th> <td>1709.401</td>\n",
       "</tr>\n",
       "<tr>\n",
       "  <th>Skew:</th>          <td>-0.968</td>  <th>  Prob(JB):          </th> <td>    0.00</td>\n",
       "</tr>\n",
       "<tr>\n",
       "  <th>Kurtosis:</th>      <td> 4.789</td>  <th>  Cond. No.          </th> <td>    22.7</td>\n",
       "</tr>\n",
       "</table><br/><br/>Warnings:<br/>[1] Standard Errors assume that the covariance matrix of the errors is correctly specified."
      ],
      "text/plain": [
       "<class 'statsmodels.iolib.summary.Summary'>\n",
       "\"\"\"\n",
       "                            OLS Regression Results                            \n",
       "==============================================================================\n",
       "Dep. Variable:                      y   R-squared:                       0.068\n",
       "Model:                            OLS   Adj. R-squared:                  0.068\n",
       "Method:                 Least Squares   F-statistic:                     428.2\n",
       "Date:                Sun, 20 Sep 2020   Prob (F-statistic):           6.96e-92\n",
       "Time:                        12:00:40   Log-Likelihood:                -12028.\n",
       "No. Observations:                5902   AIC:                         2.406e+04\n",
       "Df Residuals:                    5900   BIC:                         2.407e+04\n",
       "Df Model:                           1                                         \n",
       "Covariance Type:            nonrobust                                         \n",
       "==============================================================================\n",
       "                 coef    std err          t      P>|t|      [0.025      0.975]\n",
       "------------------------------------------------------------------------------\n",
       "mean          -1.0171      0.049    -20.692      0.000      -1.113      -0.921\n",
       "Const          3.2089      0.157     20.445      0.000       2.901       3.517\n",
       "==============================================================================\n",
       "Omnibus:                      910.441   Durbin-Watson:                   1.801\n",
       "Prob(Omnibus):                  0.000   Jarque-Bera (JB):             1709.401\n",
       "Skew:                          -0.968   Prob(JB):                         0.00\n",
       "Kurtosis:                       4.789   Cond. No.                         22.7\n",
       "==============================================================================\n",
       "\n",
       "Warnings:\n",
       "[1] Standard Errors assume that the covariance matrix of the errors is correctly specified.\n",
       "\"\"\""
      ]
     },
     "execution_count": 155,
     "metadata": {},
     "output_type": "execute_result"
    }
   ],
   "source": [
    "Reg_tot2.summary()"
   ]
  },
  {
   "cell_type": "code",
   "execution_count": 156,
   "metadata": {},
   "outputs": [],
   "source": [
    "# Collect the testing informations\n",
    "Info_regtot1=pd.DataFrame()\n",
    "Info_regtot1['group']=['Total','Total','Total','Total']\n",
    "Info_regtot1['params']=['lg_count','Const1','mean','Const2']\n",
    "Info_regtot1['Coefs']=list(Reg_tot1.params)+list(Reg_tot2.params)\n",
    "Info_regtot1['t']=list(Reg_tot1.tvalues)+list(Reg_tot2.tvalues)\n",
    "Info_regtot1['p>|t|']=list(Reg_tot1.pvalues)+list(Reg_tot2.pvalues)"
   ]
  },
  {
   "cell_type": "code",
   "execution_count": 157,
   "metadata": {},
   "outputs": [
    {
     "name": "stderr",
     "output_type": "stream",
     "text": [
      "/Users/lihuayu/anaconda3/lib/python3.7/site-packages/statsmodels/regression/linear_model.py:1578: RuntimeWarning: divide by zero encountered in double_scalars\n",
      "  return np.dot(wresid, wresid) / self.df_resid\n"
     ]
    }
   ],
   "source": [
    "# Now for different genres\n",
    "genres=list(Tot.groupby('genre').count().index)\n",
    "for i in genres:\n",
    "    df=pd.DataFrame()\n",
    "    df['group']=[i,i,i,i]\n",
    "    X01=Tot[['lg_count','Const']][Tot.genre==i]\n",
    "    Y01=Tot['lg_gross'][Tot.genre==i]\n",
    "    Reg_tot01=sm.OLS(Y01,X01)\n",
    "    Reg_tot01=Reg_tot01.fit()\n",
    "    Y02=Reg_tot01.resid\n",
    "    X02=Tot[['mean','Const']][Tot.genre==i]\n",
    "    Reg_tot02=sm.OLS(Y02,X02)\n",
    "    Reg_tot02=Reg_tot02.fit()   \n",
    "    df['params']=['lg_count','Const1','mean','Const2']\n",
    "    df['Coefs']=list(Reg_tot01.params)+list(Reg_tot02.params)\n",
    "    df['t']=list(Reg_tot01.tvalues)+list(Reg_tot02.tvalues)\n",
    "    df['p>|t|']=list(Reg_tot01.pvalues)+list(Reg_tot02.pvalues)\n",
    "    Info_regtot1=pd.concat([Info_regtot1,df],axis=0)"
   ]
  },
  {
   "cell_type": "code",
   "execution_count": 165,
   "metadata": {},
   "outputs": [],
   "source": [
    "Info_regtot1.to_csv('Results_reg.csv')"
   ]
  },
  {
   "cell_type": "code",
   "execution_count": null,
   "metadata": {},
   "outputs": [],
   "source": []
  }
 ],
 "metadata": {
  "kernelspec": {
   "display_name": "Python 3",
   "language": "python",
   "name": "python3"
  },
  "language_info": {
   "codemirror_mode": {
    "name": "ipython",
    "version": 3
   },
   "file_extension": ".py",
   "mimetype": "text/x-python",
   "name": "python",
   "nbconvert_exporter": "python",
   "pygments_lexer": "ipython3",
   "version": "3.5.2"
  }
 },
 "nbformat": 4,
 "nbformat_minor": 2
}
