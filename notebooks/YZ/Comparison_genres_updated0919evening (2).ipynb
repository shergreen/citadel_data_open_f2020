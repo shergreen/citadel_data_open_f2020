{
 "cells": [
  {
   "cell_type": "code",
   "execution_count": 103,
   "metadata": {},
   "outputs": [],
   "source": [
    "import numpy as np\n",
    "import pandas as pd\n",
    "import time\n",
    "import matplotlib.pyplot as plt"
   ]
  },
  {
   "cell_type": "code",
   "execution_count": 104,
   "metadata": {},
   "outputs": [
    {
     "name": "stderr",
     "output_type": "stream",
     "text": [
      "/Users/lihuayu/anaconda3/lib/python3.7/site-packages/ipykernel_launcher.py:50: SettingWithCopyWarning: \n",
      "A value is trying to be set on a copy of a slice from a DataFrame\n",
      "\n",
      "See the caveats in the documentation: https://pandas.pydata.org/pandas-docs/stable/user_guide/indexing.html#returning-a-view-versus-a-copy\n"
     ]
    }
   ],
   "source": [
    "# Import datasets\n",
    "Mov=pd.read_csv('movies.csv',sep=',')\n",
    "Rat=pd.read_csv('ratings.csv')\n",
    "Osc=pd.read_csv('the_oscar_award.csv')\n",
    "## Now start cleaning\n",
    "# Transforming movies dataset: extract the years\n",
    "def ext_movname(tlist):\n",
    "    lst=tlist.copy()\n",
    "    year=tlist.copy()\n",
    "    for i in range(len(tlist)):\n",
    "        raw=tlist[i].rstrip()\n",
    "        try:\n",
    "            year[i]=int(raw[-5:-1])\n",
    "            lst[i]=raw[:-7]\n",
    "        except:\n",
    "            year[i]=np.nan\n",
    "            lst[i]=raw\n",
    "    return [lst,year]\n",
    "u=ext_movname(Mov['title'])\n",
    "Mov['title']=u[0]\n",
    "Mov['year']=u[1]\n",
    "CMov=Mov[Mov.year>=1994]\n",
    "CMov=CMov.reset_index(drop=True)\n",
    "# Function for recorrect the film name\n",
    "def recorr(string):\n",
    "    if '(' in string:\n",
    "        nstr=string.split(' (')[0]\n",
    "    else:\n",
    "        nstr=string\n",
    "    if ',' not in nstr:\n",
    "        return nstr\n",
    "    else:\n",
    "        lst=nstr.split(sep=', ')\n",
    "        if lst[-1] not in {'The', 'A'}:\n",
    "            return nstr\n",
    "        else:\n",
    "            nlst=lst[:-1]\n",
    "            new=lst[-1]+' '\n",
    "            for j in nlst:\n",
    "                new=new+j\n",
    "            return new\n",
    "CMov['title']=CMov['title'].apply(recorr)\n",
    "# Choose the ceremony year and file name columns\n",
    "C_osc=Osc[['year_ceremony','film','year_film']].dropna().copy()\n",
    "C_osc=C_osc.reset_index(drop=True)\n",
    "C_osc['film']=C_osc['film'].apply(recorr)\n",
    "for i in range(len(C_osc)):\n",
    "    if C_osc['film'][i][-1]==';':\n",
    "        u=C_osc['film'][i][-1]\n",
    "        C_osc['film'][i]=u[:-1]\n",
    "C_osc=C_osc[C_osc.year_ceremony>=1995]\n",
    "C_osc=C_osc.drop_duplicates(subset=['film','year_film'], keep='first').reset_index(drop=True)"
   ]
  },
  {
   "cell_type": "code",
   "execution_count": 105,
   "metadata": {},
   "outputs": [],
   "source": [
    "D_osc={(C_osc['film'][i],C_osc['year_film'][i]):C_osc['year_ceremony'][i] for i in range(len(C_osc))}\n",
    "\n",
    "lst=[]\n",
    "for i in range(len(CMov['title'])):\n",
    "    if (CMov['title'][i],CMov['year'][i]) in D_osc:\n",
    "        lst.append(D_osc[(CMov['title'][i],CMov['year'][i])])\n",
    "    else:\n",
    "        lst.append(0)\n",
    "CMov['Oscar']=lst  \n",
    "cMov=CMov[CMov.Oscar!=0]"
   ]
  },
  {
   "cell_type": "code",
   "execution_count": 107,
   "metadata": {},
   "outputs": [],
   "source": [
    "# Transfering timestamp: extract the year data\n",
    "def extract_year(time_se):\n",
    "    return time.localtime(time_se).tm_year\n",
    "Ye=Rat['timestamp'].apply(extract_year)\n",
    "Rat['timestamp']=Ye"
   ]
  },
  {
   "cell_type": "code",
   "execution_count": 110,
   "metadata": {},
   "outputs": [],
   "source": [
    "# Merge CMov and Rat, and filter the available rating times\n",
    "R_Mov=pd.merge(cMov,Rat,on=['movieId'])\n",
    "Ava_rating=R_Mov.reset_index(drop=True)[['movieId','title','genres','Oscar','timestamp','rating']]"
   ]
  },
  {
   "cell_type": "code",
   "execution_count": 113,
   "metadata": {},
   "outputs": [],
   "source": [
    "prev=Ava_rating[((Ava_rating.timestamp<=Ava_rating.Oscar) & \n",
    "                 (Ava_rating.timestamp>=Ava_rating.Oscar-1))][['movieId','genres','rating']]\n",
    "after=Ava_rating[((Ava_rating.timestamp>Ava_rating.Oscar) & \n",
    "                  (Ava_rating.timestamp<=Ava_rating.Oscar+1))][['movieId','genres','rating']]"
   ]
  },
  {
   "cell_type": "code",
   "execution_count": 116,
   "metadata": {},
   "outputs": [],
   "source": [
    "# Now calculate for the parameters\n",
    "glist=['movieId','genres']\n",
    "gprev=prev.groupby(glist,as_index=False)\n",
    "Stat_prev=gprev.count()\n",
    "meanp=gprev.mean()['rating']\n",
    "Stat_prev['prev_mean']=meanp\n",
    "varp=gprev.var().fillna(0)['rating']\n",
    "Stat_prev['prev_var']=varp\n",
    "Stat_prev=Stat_prev.drop(['rating'],axis=1)"
   ]
  },
  {
   "cell_type": "code",
   "execution_count": 118,
   "metadata": {},
   "outputs": [],
   "source": [
    "# Now calculate for the parameters\n",
    "gafter=after.groupby(glist,as_index=False)\n",
    "Stat_after=gafter.count()\n",
    "meana=gafter.mean()['rating']\n",
    "Stat_after['after_mean']=meana\n",
    "vara=gafter.var().fillna(0)['rating']\n",
    "Stat_after['after_var']=vara\n",
    "Stat_after=Stat_after.drop(['rating'],axis=1)"
   ]
  },
  {
   "cell_type": "code",
   "execution_count": 141,
   "metadata": {},
   "outputs": [],
   "source": [
    "# Now merge\n",
    "Compare=pd.merge(Stat_prev,Stat_after,how='left',on=['movieId','genres'])"
   ]
  },
  {
   "cell_type": "code",
   "execution_count": 142,
   "metadata": {},
   "outputs": [],
   "source": [
    "Compare['mean_diff']=Compare['after_mean']-Compare['prev_mean']\n",
    "Compare['var_diff']=Compare['after_var']-Compare['prev_var']"
   ]
  },
  {
   "cell_type": "code",
   "execution_count": 143,
   "metadata": {},
   "outputs": [],
   "source": [
    "# Adding 9 genre columns\n",
    "Sp=Compare.shape\n",
    "Hot_mat=np.array([0]*Sp[0]*9)\n",
    "Hot_mat.shape=(Sp[0],9)\n",
    "Hot_mat\n",
    "for i in range(Sp[0]):\n",
    "    gen=Compare['genres'][i].split(sep='|')\n",
    "    if 'Action' in gen:\n",
    "        Hot_mat[i,0]=1\n",
    "    if 'Adventure' in gen:\n",
    "        Hot_mat[i,1]=1\n",
    "    if 'Comedy' in gen:\n",
    "        Hot_mat[i,2]=1\n",
    "    if 'Crime' in gen:\n",
    "        Hot_mat[i,3]=1\n",
    "    if 'Drama' in gen:\n",
    "        Hot_mat[i,4]=1\n",
    "    if 'Fantasy' in gen:\n",
    "        Hot_mat[i,5]=1\n",
    "    if 'Romance' in gen:\n",
    "        Hot_mat[i,6]=1\n",
    "    if 'Sci-Fi' in gen:\n",
    "        Hot_mat[i,7]=1\n",
    "    if 'Thriller' in gen:\n",
    "        Hot_mat[i,8]=1\n",
    "Compare['is_Action']=Hot_mat[:,0]\n",
    "Compare['is_Adventure']=Hot_mat[:,1]\n",
    "Compare['is_Comedy']=Hot_mat[:,2]\n",
    "Compare['is_Crime']=Hot_mat[:,3]\n",
    "Compare['is_Drama']=Hot_mat[:,4]\n",
    "Compare['is_Fantasy']=Hot_mat[:,5]\n",
    "Compare['is_Romance']=Hot_mat[:,6]\n",
    "Compare['is_Sci-Fi']=Hot_mat[:,7]\n",
    "Compare['is_Thriller']=Hot_mat[:,8]"
   ]
  },
  {
   "cell_type": "code",
   "execution_count": 144,
   "metadata": {},
   "outputs": [],
   "source": [
    "Compare=Compare.drop(['genres'],axis=1)"
   ]
  },
  {
   "cell_type": "code",
   "execution_count": 147,
   "metadata": {},
   "outputs": [],
   "source": [
    "Compare.to_csv('New_Comp_change3.csv')"
   ]
  },
  {
   "cell_type": "code",
   "execution_count": 154,
   "metadata": {},
   "outputs": [],
   "source": [
    "# Another file\n",
    "NMov=CMov[CMov.Oscar==0]\n",
    "ExMov=pd.merge(NMov,Rat,on=['movieId'])\n",
    "Ext_rating=ExMov.reset_index(drop=True)"
   ]
  },
  {
   "cell_type": "code",
   "execution_count": 158,
   "metadata": {},
   "outputs": [],
   "source": [
    "E_prev=Ext_rating[(Ext_rating.timestamp<=Ext_rating.year+1)][['movieId','genres','rating']]\n",
    "E_after=Ext_rating[(Ext_rating.timestamp>Ext_rating.year+1) & (Ext_rating.timestamp<=Ext_rating.year+2)][['movieId','genres','rating']]\n",
    "min_comment=10"
   ]
  },
  {
   "cell_type": "code",
   "execution_count": 162,
   "metadata": {},
   "outputs": [],
   "source": [
    "# Now calculate for the parameters\n",
    "E_gprev=E_prev.groupby(glist,as_index=False)\n",
    "Stat_Eprev=E_gprev.count()\n",
    "E_meanp=E_gprev.mean()['rating']\n",
    "Stat_Eprev['prev_mean']=E_meanp\n",
    "E_varp=E_gprev.var().fillna(0)['rating']\n",
    "Stat_Eprev['prev_var']=E_varp\n",
    "Stat_Eprev=Stat_Eprev[Stat_Eprev.rating>=min_comment]\n",
    "Stat_Eprev=Stat_Eprev[['movieId','genres','prev_mean','prev_var']]"
   ]
  },
  {
   "cell_type": "code",
   "execution_count": 163,
   "metadata": {},
   "outputs": [],
   "source": [
    "# Now calculate for the parameters\n",
    "E_gafter=E_after.groupby(glist,as_index=False)\n",
    "Stat_Eafter=E_gafter.count()\n",
    "E_meana=E_gafter.mean()['rating']\n",
    "Stat_Eafter['after_mean']=E_meana\n",
    "E_vara=E_gafter.var().fillna(0)['rating']\n",
    "Stat_Eafter['after_var']=E_vara\n",
    "Stat_Eafter=Stat_Eafter[Stat_Eafter.rating>=min_comment]\n",
    "Stat_Eafter=Stat_Eafter[['movieId','genres','after_mean','after_var']]"
   ]
  },
  {
   "cell_type": "code",
   "execution_count": 166,
   "metadata": {},
   "outputs": [],
   "source": [
    "# Now merge\n",
    "ECompare=pd.merge(Stat_Eprev,Stat_Eafter,how='inner',on=['movieId','genres'])\n",
    "ECompare['mean_diff']=ECompare['after_mean']-ECompare['prev_mean']\n",
    "ECompare['var_diff']=ECompare['after_var']-ECompare['prev_var']"
   ]
  },
  {
   "cell_type": "code",
   "execution_count": 168,
   "metadata": {},
   "outputs": [],
   "source": [
    "# Adding 9 genre columns\n",
    "Sp=ECompare.shape\n",
    "Hot_mat=np.array([0]*Sp[0]*9)\n",
    "Hot_mat.shape=(Sp[0],9)\n",
    "Hot_mat\n",
    "for i in range(Sp[0]):\n",
    "    gen=ECompare['genres'][i].split(sep='|')\n",
    "    if 'Action' in gen:\n",
    "        Hot_mat[i,0]=1\n",
    "    if 'Adventure' in gen:\n",
    "        Hot_mat[i,1]=1\n",
    "    if 'Comedy' in gen:\n",
    "        Hot_mat[i,2]=1\n",
    "    if 'Crime' in gen:\n",
    "        Hot_mat[i,3]=1\n",
    "    if 'Drama' in gen:\n",
    "        Hot_mat[i,4]=1\n",
    "    if 'Fantasy' in gen:\n",
    "        Hot_mat[i,5]=1\n",
    "    if 'Romance' in gen:\n",
    "        Hot_mat[i,6]=1\n",
    "    if 'Sci-Fi' in gen:\n",
    "        Hot_mat[i,7]=1\n",
    "    if 'Thriller' in gen:\n",
    "        Hot_mat[i,8]=1\n",
    "ECompare['is_Action']=Hot_mat[:,0]\n",
    "ECompare['is_Adventure']=Hot_mat[:,1]\n",
    "ECompare['is_Comedy']=Hot_mat[:,2]\n",
    "ECompare['is_Crime']=Hot_mat[:,3]\n",
    "ECompare['is_Drama']=Hot_mat[:,4]\n",
    "ECompare['is_Fantasy']=Hot_mat[:,5]\n",
    "ECompare['is_Romance']=Hot_mat[:,6]\n",
    "ECompare['is_Sci-Fi']=Hot_mat[:,7]\n",
    "ECompare['is_Thriller']=Hot_mat[:,8]"
   ]
  },
  {
   "cell_type": "code",
   "execution_count": 170,
   "metadata": {},
   "outputs": [],
   "source": [
    "ECompare=ECompare.drop(['genres'],axis=1)"
   ]
  },
  {
   "cell_type": "code",
   "execution_count": 172,
   "metadata": {},
   "outputs": [],
   "source": [
    "ECompare.to_csv('New_Ex_Comp_change3.csv')"
   ]
  },
  {
   "cell_type": "code",
   "execution_count": null,
   "metadata": {},
   "outputs": [],
   "source": []
  }
 ],
 "metadata": {
  "kernelspec": {
   "display_name": "Python 3",
   "language": "python",
   "name": "python3"
  },
  "language_info": {
   "codemirror_mode": {
    "name": "ipython",
    "version": 3
   },
   "file_extension": ".py",
   "mimetype": "text/x-python",
   "name": "python",
   "nbconvert_exporter": "python",
   "pygments_lexer": "ipython3",
   "version": "3.7.3"
  }
 },
 "nbformat": 4,
 "nbformat_minor": 2
}
